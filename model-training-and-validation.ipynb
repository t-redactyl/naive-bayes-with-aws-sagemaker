{
 "cells": [
  {
   "cell_type": "markdown",
   "metadata": {},
   "source": [
    "# Classification with scikit-learn and Sagemaker\n",
    "\n",
    "## Model training and evaluation\n",
    "\n",
    "### Model selection\n",
    "\n",
    "I explored three models:\n",
    "* A Naive Bayes classifier using features from the `reviews_body` field. This model uses only 1-grams.\n",
    "* A Naive Bayes classifier using features from the `product_titles` field. This model also uses only 1-grams.\n",
    "* A second Naive Bayes classifier using features from the `product_titles` field, but this time using all 1-, 2- and 3-grams contained in each title as features.\n",
    "\n",
    "A Naive Bayes classifier trained on text is a model that calculates the likelihood of a piece of text belonging to a category based on the presence of a term in that piece of text. The \"naive\" in the title comes from the assumption that the presence of a term in a piece of text is independent of all of the other terms in that text, which is obviously rarely true in practice, including in the case of my training data. \n",
    "\n",
    "However, even when this assumption is violated, Naive Bayes models tend to perform well at category prediction, as well as being extremely fast to train and predict. They also work well with high-dimension data such as words. As such, I decided to use a Naive Bayes for this proof-of-concept in order to get a sense of what signal was present in the text fields available for training before moving onto more sophisticated models.\n",
    "\n",
    "### Model training and deployment\n",
    "\n",
    "In order to train the models, I set up a SageMaker session, and used this to upload the training data from my notebook instance to the model instance. I then ran the training script specific to that model. Finally, after the model was trained, I deployed each model to an endpoint, ready for prediction.\n",
    "\n",
    "Within each training script, there are two final data cleaning steps. Firstly, I needed to vectorise the text data (that is, convert each piece of text into a vector, with each index of the vector representing the presence of items in the corpus vocabulary). Instead of using a simple count of words in the vocabulary, I decided to use the tf-idf (term frequency–inverse document frequency), which is a ratio of how important a word is in a document compared to how common it is in the corpus. It tends to give much more information about the relative importance of a term to a piece of text's meaning than a simple count.\n",
    "\n",
    "Secondly, I converted the text labels of the target `product_categories` into numeric labels, as this is the format required to train the model."
   ]
  },
  {
   "cell_type": "code",
   "execution_count": 1,
   "metadata": {},
   "outputs": [],
   "source": [
    "import sagemaker\n",
    "import pandas as pd\n",
    "import numpy as np\n",
    "import matplotlib.pyplot as plt\n",
    "import math\n",
    "import seaborn as sns\n",
    "\n",
    "from sagemaker import get_execution_role\n",
    "from sagemaker.sklearn.estimator import SKLearn\n",
    "from sklearn.feature_extraction.text import TfidfVectorizer\n",
    "from sklearn.metrics import confusion_matrix\n",
    "from time import sleep\n",
    "from ipywidgets import IntProgress\n",
    "from IPython.display import display\n",
    "\n",
    "sagemaker_session = sagemaker.Session()\n",
    "role = get_execution_role()\n",
    "\n",
    "# Upload the data\n",
    "TRAIN_DATA = \"data\"\n",
    "training_data_id = sagemaker_session.upload_data(TRAIN_DATA)"
   ]
  },
  {
   "cell_type": "code",
   "execution_count": 2,
   "metadata": {},
   "outputs": [
    {
     "name": "stdout",
     "output_type": "stream",
     "text": [
      "2019-11-07 17:58:02 Starting - Starting the training job...\n",
      "2019-11-07 17:58:03 Starting - Launching requested ML instances...\n",
      "2019-11-07 17:59:00 Starting - Preparing the instances for training......\n",
      "2019-11-07 17:59:52 Downloading - Downloading input data...\n",
      "2019-11-07 18:00:24 Training - Training image download completed. Training in progress..\u001b[31m2019-11-07 18:00:25,262 sagemaker-containers INFO     Imported framework sagemaker_sklearn_container.training\u001b[0m\n",
      "\u001b[31m2019-11-07 18:00:25,264 sagemaker-containers INFO     No GPUs detected (normal if no gpus installed)\u001b[0m\n",
      "\u001b[31m2019-11-07 18:00:25,274 sagemaker_sklearn_container.training INFO     Invoking user training script.\u001b[0m\n",
      "\u001b[31m2019-11-07 18:00:25,525 sagemaker-containers INFO     Module scikit_learn_nb_reviews does not provide a setup.py. \u001b[0m\n",
      "\u001b[31mGenerating setup.py\u001b[0m\n",
      "\u001b[31m2019-11-07 18:00:25,525 sagemaker-containers INFO     Generating setup.cfg\u001b[0m\n",
      "\u001b[31m2019-11-07 18:00:25,526 sagemaker-containers INFO     Generating MANIFEST.in\u001b[0m\n",
      "\u001b[31m2019-11-07 18:00:25,526 sagemaker-containers INFO     Installing module with the following command:\u001b[0m\n",
      "\u001b[31m/miniconda3/bin/python -m pip install . \u001b[0m\n",
      "\u001b[31mProcessing /opt/ml/code\u001b[0m\n",
      "\u001b[31mBuilding wheels for collected packages: scikit-learn-nb-reviews\n",
      "  Building wheel for scikit-learn-nb-reviews (setup.py): started\n",
      "  Building wheel for scikit-learn-nb-reviews (setup.py): finished with status 'done'\n",
      "  Created wheel for scikit-learn-nb-reviews: filename=scikit_learn_nb_reviews-1.0.0-py2.py3-none-any.whl size=6005 sha256=08d843b1dd83613b8c090bdf7971e095fa3a2c0ec4b7fb027e3195a69268f622\n",
      "  Stored in directory: /tmp/pip-ephem-wheel-cache-0ob09dxj/wheels/35/24/16/37574d11bf9bde50616c67372a334f94fa8356bc7164af8ca3\u001b[0m\n",
      "\u001b[31mSuccessfully built scikit-learn-nb-reviews\u001b[0m\n",
      "\u001b[31mInstalling collected packages: scikit-learn-nb-reviews\u001b[0m\n",
      "\u001b[31mSuccessfully installed scikit-learn-nb-reviews-1.0.0\u001b[0m\n",
      "\u001b[31m2019-11-07 18:00:26,786 sagemaker-containers INFO     No GPUs detected (normal if no gpus installed)\u001b[0m\n",
      "\u001b[31m2019-11-07 18:00:26,797 sagemaker-containers INFO     Invoking user script\n",
      "\u001b[0m\n",
      "\u001b[31mTraining Env:\n",
      "\u001b[0m\n",
      "\u001b[31m{\n",
      "    \"additional_framework_parameters\": {},\n",
      "    \"channel_input_dirs\": {\n",
      "        \"train\": \"/opt/ml/input/data/train\"\n",
      "    },\n",
      "    \"current_host\": \"algo-1\",\n",
      "    \"framework_module\": \"sagemaker_sklearn_container.training:main\",\n",
      "    \"hosts\": [\n",
      "        \"algo-1\"\n",
      "    ],\n",
      "    \"hyperparameters\": {},\n",
      "    \"input_config_dir\": \"/opt/ml/input/config\",\n",
      "    \"input_data_config\": {\n",
      "        \"train\": {\n",
      "            \"TrainingInputMode\": \"File\",\n",
      "            \"S3DistributionType\": \"FullyReplicated\",\n",
      "            \"RecordWrapperType\": \"None\"\n",
      "        }\n",
      "    },\n",
      "    \"input_dir\": \"/opt/ml/input\",\n",
      "    \"is_master\": true,\n",
      "    \"job_name\": \"sagemaker-scikit-learn-2019-11-07-17-58-02-092\",\n",
      "    \"log_level\": 20,\n",
      "    \"master_hostname\": \"algo-1\",\n",
      "    \"model_dir\": \"/opt/ml/model\",\n",
      "    \"module_dir\": \"s3://sagemaker-eu-central-1-872191310305/sagemaker-scikit-learn-2019-11-07-17-58-02-092/source/sourcedir.tar.gz\",\n",
      "    \"module_name\": \"scikit_learn_nb_reviews\",\n",
      "    \"network_interface_name\": \"eth0\",\n",
      "    \"num_cpus\": 4,\n",
      "    \"num_gpus\": 0,\n",
      "    \"output_data_dir\": \"/opt/ml/output/data\",\n",
      "    \"output_dir\": \"/opt/ml/output\",\n",
      "    \"output_intermediate_dir\": \"/opt/ml/output/intermediate\",\n",
      "    \"resource_config\": {\n",
      "        \"current_host\": \"algo-1\",\n",
      "        \"hosts\": [\n",
      "            \"algo-1\"\n",
      "        ],\n",
      "        \"network_interface_name\": \"eth0\"\n",
      "    },\n",
      "    \"user_entry_point\": \"scikit_learn_nb_reviews.py\"\u001b[0m\n",
      "\u001b[31m}\n",
      "\u001b[0m\n",
      "\u001b[31mEnvironment variables:\n",
      "\u001b[0m\n",
      "\u001b[31mSM_HOSTS=[\"algo-1\"]\u001b[0m\n",
      "\u001b[31mSM_NETWORK_INTERFACE_NAME=eth0\u001b[0m\n",
      "\u001b[31mSM_HPS={}\u001b[0m\n",
      "\u001b[31mSM_USER_ENTRY_POINT=scikit_learn_nb_reviews.py\u001b[0m\n",
      "\u001b[31mSM_FRAMEWORK_PARAMS={}\u001b[0m\n",
      "\u001b[31mSM_RESOURCE_CONFIG={\"current_host\":\"algo-1\",\"hosts\":[\"algo-1\"],\"network_interface_name\":\"eth0\"}\u001b[0m\n",
      "\u001b[31mSM_INPUT_DATA_CONFIG={\"train\":{\"RecordWrapperType\":\"None\",\"S3DistributionType\":\"FullyReplicated\",\"TrainingInputMode\":\"File\"}}\u001b[0m\n",
      "\u001b[31mSM_OUTPUT_DATA_DIR=/opt/ml/output/data\u001b[0m\n",
      "\u001b[31mSM_CHANNELS=[\"train\"]\u001b[0m\n",
      "\u001b[31mSM_CURRENT_HOST=algo-1\u001b[0m\n",
      "\u001b[31mSM_MODULE_NAME=scikit_learn_nb_reviews\u001b[0m\n",
      "\u001b[31mSM_LOG_LEVEL=20\u001b[0m\n",
      "\u001b[31mSM_FRAMEWORK_MODULE=sagemaker_sklearn_container.training:main\u001b[0m\n",
      "\u001b[31mSM_INPUT_DIR=/opt/ml/input\u001b[0m\n",
      "\u001b[31mSM_INPUT_CONFIG_DIR=/opt/ml/input/config\u001b[0m\n",
      "\u001b[31mSM_OUTPUT_DIR=/opt/ml/output\u001b[0m\n",
      "\u001b[31mSM_NUM_CPUS=4\u001b[0m\n",
      "\u001b[31mSM_NUM_GPUS=0\u001b[0m\n",
      "\u001b[31mSM_MODEL_DIR=/opt/ml/model\u001b[0m\n",
      "\u001b[31mSM_MODULE_DIR=s3://sagemaker-eu-central-1-872191310305/sagemaker-scikit-learn-2019-11-07-17-58-02-092/source/sourcedir.tar.gz\u001b[0m\n",
      "\u001b[31mSM_TRAINING_ENV={\"additional_framework_parameters\":{},\"channel_input_dirs\":{\"train\":\"/opt/ml/input/data/train\"},\"current_host\":\"algo-1\",\"framework_module\":\"sagemaker_sklearn_container.training:main\",\"hosts\":[\"algo-1\"],\"hyperparameters\":{},\"input_config_dir\":\"/opt/ml/input/config\",\"input_data_config\":{\"train\":{\"RecordWrapperType\":\"None\",\"S3DistributionType\":\"FullyReplicated\",\"TrainingInputMode\":\"File\"}},\"input_dir\":\"/opt/ml/input\",\"is_master\":true,\"job_name\":\"sagemaker-scikit-learn-2019-11-07-17-58-02-092\",\"log_level\":20,\"master_hostname\":\"algo-1\",\"model_dir\":\"/opt/ml/model\",\"module_dir\":\"s3://sagemaker-eu-central-1-872191310305/sagemaker-scikit-learn-2019-11-07-17-58-02-092/source/sourcedir.tar.gz\",\"module_name\":\"scikit_learn_nb_reviews\",\"network_interface_name\":\"eth0\",\"num_cpus\":4,\"num_gpus\":0,\"output_data_dir\":\"/opt/ml/output/data\",\"output_dir\":\"/opt/ml/output\",\"output_intermediate_dir\":\"/opt/ml/output/intermediate\",\"resource_config\":{\"current_host\":\"algo-1\",\"hosts\":[\"algo-1\"],\"network_interface_name\":\"eth0\"},\"user_entry_point\":\"scikit_learn_nb_reviews.py\"}\u001b[0m\n",
      "\u001b[31mSM_USER_ARGS=[]\u001b[0m\n",
      "\u001b[31mSM_OUTPUT_INTERMEDIATE_DIR=/opt/ml/output/intermediate\u001b[0m\n",
      "\u001b[31mSM_CHANNEL_TRAIN=/opt/ml/input/data/train\u001b[0m\n",
      "\u001b[31mPYTHONPATH=/miniconda3/bin:/miniconda3/lib/python37.zip:/miniconda3/lib/python3.7:/miniconda3/lib/python3.7/lib-dynload:/miniconda3/lib/python3.7/site-packages\n",
      "\u001b[0m\n",
      "\u001b[31mInvoking script with the following command:\n",
      "\u001b[0m\n",
      "\u001b[31m/miniconda3/bin/python -m scikit_learn_nb_reviews\n",
      "\n",
      "\u001b[0m\n",
      "\u001b[31m/miniconda3/lib/python3.7/site-packages/sklearn/externals/joblib/externals/cloudpickle/cloudpickle.py:47: DeprecationWarning: the imp module is deprecated in favour of importlib; see the module's documentation for alternative uses\n",
      "  import imp\u001b[0m\n",
      "\u001b[31m2019-11-07 18:00:44,076 sagemaker-containers INFO     Reporting training SUCCESS\u001b[0m\n",
      "\n",
      "2019-11-07 18:00:50 Uploading - Uploading generated training model\n",
      "2019-11-07 18:00:50 Completed - Training job completed\n",
      "Training seconds: 58\n",
      "Billable seconds: 58\n"
     ]
    }
   ],
   "source": [
    "# Create the model object for the reviews data\n",
    "sklearn_reviews = SKLearn(\n",
    "    entry_point=\"scikit_learn_nb_reviews.py\",\n",
    "    train_instance_type=\"ml.c4.xlarge\",\n",
    "    role=role,\n",
    "    sagemaker_session=sagemaker_session,\n",
    ")\n",
    "\n",
    "# Train reviews model\n",
    "sklearn_reviews.fit({\"train\": training_data_id})"
   ]
  },
  {
   "cell_type": "code",
   "execution_count": 3,
   "metadata": {},
   "outputs": [
    {
     "name": "stdout",
     "output_type": "stream",
     "text": [
      "--------------------------------------------------------------------------------------------------!"
     ]
    }
   ],
   "source": [
    "# Deploy reviews model to endpoint\n",
    "predictor_reviews = sklearn_reviews.deploy(\n",
    "    initial_instance_count=1, \n",
    "    instance_type=\"ml.m4.xlarge\"\n",
    ")"
   ]
  },
  {
   "cell_type": "code",
   "execution_count": 4,
   "metadata": {},
   "outputs": [
    {
     "name": "stdout",
     "output_type": "stream",
     "text": [
      "2019-11-07 18:16:39 Starting - Starting the training job...............\n",
      "2019-11-07 18:18:45 Starting - Launching requested ML instances.........\n",
      "2019-11-07 18:20:11 Starting - Preparing the instances for training...\n",
      "2019-11-07 18:21:04 Downloading - Downloading input data...\n",
      "2019-11-07 18:21:32 Training - Downloading the training image..\u001b[31m2019-11-07 18:21:45,408 sagemaker-containers INFO     Imported framework sagemaker_sklearn_container.training\u001b[0m\n",
      "\u001b[31m2019-11-07 18:21:45,411 sagemaker-containers INFO     No GPUs detected (normal if no gpus installed)\u001b[0m\n",
      "\u001b[31m2019-11-07 18:21:45,421 sagemaker_sklearn_container.training INFO     Invoking user training script.\u001b[0m\n",
      "\u001b[31m2019-11-07 18:21:45,686 sagemaker-containers INFO     Module scikit_learn_nb_titles does not provide a setup.py. \u001b[0m\n",
      "\u001b[31mGenerating setup.py\u001b[0m\n",
      "\u001b[31m2019-11-07 18:21:45,686 sagemaker-containers INFO     Generating setup.cfg\u001b[0m\n",
      "\u001b[31m2019-11-07 18:21:45,686 sagemaker-containers INFO     Generating MANIFEST.in\u001b[0m\n",
      "\u001b[31m2019-11-07 18:21:45,686 sagemaker-containers INFO     Installing module with the following command:\u001b[0m\n",
      "\u001b[31m/miniconda3/bin/python -m pip install . \u001b[0m\n",
      "\u001b[31mProcessing /opt/ml/code\u001b[0m\n",
      "\u001b[31mBuilding wheels for collected packages: scikit-learn-nb-titles\n",
      "  Building wheel for scikit-learn-nb-titles (setup.py): started\n",
      "  Building wheel for scikit-learn-nb-titles (setup.py): finished with status 'done'\n",
      "  Created wheel for scikit-learn-nb-titles: filename=scikit_learn_nb_titles-1.0.0-py2.py3-none-any.whl size=5957 sha256=743274dd5c0b3cd9aca7f9329d1594fe1bd92f8292df6a5cc310aa7e64c1de23\n",
      "  Stored in directory: /tmp/pip-ephem-wheel-cache-4ryurniv/wheels/35/24/16/37574d11bf9bde50616c67372a334f94fa8356bc7164af8ca3\u001b[0m\n",
      "\u001b[31mSuccessfully built scikit-learn-nb-titles\u001b[0m\n",
      "\u001b[31mInstalling collected packages: scikit-learn-nb-titles\u001b[0m\n",
      "\u001b[31mSuccessfully installed scikit-learn-nb-titles-1.0.0\u001b[0m\n",
      "\u001b[31m2019-11-07 18:21:47,043 sagemaker-containers INFO     No GPUs detected (normal if no gpus installed)\u001b[0m\n",
      "\u001b[31m2019-11-07 18:21:47,053 sagemaker-containers INFO     Invoking user script\n",
      "\u001b[0m\n",
      "\u001b[31mTraining Env:\n",
      "\u001b[0m\n",
      "\u001b[31m{\n",
      "    \"additional_framework_parameters\": {},\n",
      "    \"channel_input_dirs\": {\n",
      "        \"train\": \"/opt/ml/input/data/train\"\n",
      "    },\n",
      "    \"current_host\": \"algo-1\",\n",
      "    \"framework_module\": \"sagemaker_sklearn_container.training:main\",\n",
      "    \"hosts\": [\n",
      "        \"algo-1\"\n",
      "    ],\n",
      "    \"hyperparameters\": {},\n",
      "    \"input_config_dir\": \"/opt/ml/input/config\",\n",
      "    \"input_data_config\": {\n",
      "        \"train\": {\n",
      "            \"TrainingInputMode\": \"File\",\n",
      "            \"S3DistributionType\": \"FullyReplicated\",\n",
      "            \"RecordWrapperType\": \"None\"\n",
      "        }\n",
      "    },\n",
      "    \"input_dir\": \"/opt/ml/input\",\n",
      "    \"is_master\": true,\n",
      "    \"job_name\": \"sagemaker-scikit-learn-2019-11-07-18-16-38-732\",\n",
      "    \"log_level\": 20,\n",
      "    \"master_hostname\": \"algo-1\",\n",
      "    \"model_dir\": \"/opt/ml/model\",\n",
      "    \"module_dir\": \"s3://sagemaker-eu-central-1-872191310305/sagemaker-scikit-learn-2019-11-07-18-16-38-732/source/sourcedir.tar.gz\",\n",
      "    \"module_name\": \"scikit_learn_nb_titles\",\n",
      "    \"network_interface_name\": \"eth0\",\n",
      "    \"num_cpus\": 4,\n",
      "    \"num_gpus\": 0,\n",
      "    \"output_data_dir\": \"/opt/ml/output/data\",\n",
      "    \"output_dir\": \"/opt/ml/output\",\n",
      "    \"output_intermediate_dir\": \"/opt/ml/output/intermediate\",\n",
      "    \"resource_config\": {\n",
      "        \"current_host\": \"algo-1\",\n",
      "        \"hosts\": [\n",
      "            \"algo-1\"\n",
      "        ],\n",
      "        \"network_interface_name\": \"eth0\"\n",
      "    },\n",
      "    \"user_entry_point\": \"scikit_learn_nb_titles.py\"\u001b[0m\n",
      "\u001b[31m}\n",
      "\u001b[0m\n",
      "\u001b[31mEnvironment variables:\n",
      "\u001b[0m\n",
      "\u001b[31mSM_HOSTS=[\"algo-1\"]\u001b[0m\n",
      "\u001b[31mSM_NETWORK_INTERFACE_NAME=eth0\u001b[0m\n",
      "\u001b[31mSM_HPS={}\u001b[0m\n",
      "\u001b[31mSM_USER_ENTRY_POINT=scikit_learn_nb_titles.py\u001b[0m\n",
      "\u001b[31mSM_FRAMEWORK_PARAMS={}\u001b[0m\n",
      "\u001b[31mSM_RESOURCE_CONFIG={\"current_host\":\"algo-1\",\"hosts\":[\"algo-1\"],\"network_interface_name\":\"eth0\"}\u001b[0m\n",
      "\u001b[31mSM_INPUT_DATA_CONFIG={\"train\":{\"RecordWrapperType\":\"None\",\"S3DistributionType\":\"FullyReplicated\",\"TrainingInputMode\":\"File\"}}\u001b[0m\n",
      "\u001b[31mSM_OUTPUT_DATA_DIR=/opt/ml/output/data\u001b[0m\n",
      "\u001b[31mSM_CHANNELS=[\"train\"]\u001b[0m\n",
      "\u001b[31mSM_CURRENT_HOST=algo-1\u001b[0m\n",
      "\u001b[31mSM_MODULE_NAME=scikit_learn_nb_titles\u001b[0m\n",
      "\u001b[31mSM_LOG_LEVEL=20\u001b[0m\n",
      "\u001b[31mSM_FRAMEWORK_MODULE=sagemaker_sklearn_container.training:main\u001b[0m\n",
      "\u001b[31mSM_INPUT_DIR=/opt/ml/input\u001b[0m\n",
      "\u001b[31mSM_INPUT_CONFIG_DIR=/opt/ml/input/config\u001b[0m\n",
      "\u001b[31mSM_OUTPUT_DIR=/opt/ml/output\u001b[0m\n",
      "\u001b[31mSM_NUM_CPUS=4\u001b[0m\n",
      "\u001b[31mSM_NUM_GPUS=0\u001b[0m\n",
      "\u001b[31mSM_MODEL_DIR=/opt/ml/model\u001b[0m\n",
      "\u001b[31mSM_MODULE_DIR=s3://sagemaker-eu-central-1-872191310305/sagemaker-scikit-learn-2019-11-07-18-16-38-732/source/sourcedir.tar.gz\u001b[0m\n",
      "\u001b[31mSM_TRAINING_ENV={\"additional_framework_parameters\":{},\"channel_input_dirs\":{\"train\":\"/opt/ml/input/data/train\"},\"current_host\":\"algo-1\",\"framework_module\":\"sagemaker_sklearn_container.training:main\",\"hosts\":[\"algo-1\"],\"hyperparameters\":{},\"input_config_dir\":\"/opt/ml/input/config\",\"input_data_config\":{\"train\":{\"RecordWrapperType\":\"None\",\"S3DistributionType\":\"FullyReplicated\",\"TrainingInputMode\":\"File\"}},\"input_dir\":\"/opt/ml/input\",\"is_master\":true,\"job_name\":\"sagemaker-scikit-learn-2019-11-07-18-16-38-732\",\"log_level\":20,\"master_hostname\":\"algo-1\",\"model_dir\":\"/opt/ml/model\",\"module_dir\":\"s3://sagemaker-eu-central-1-872191310305/sagemaker-scikit-learn-2019-11-07-18-16-38-732/source/sourcedir.tar.gz\",\"module_name\":\"scikit_learn_nb_titles\",\"network_interface_name\":\"eth0\",\"num_cpus\":4,\"num_gpus\":0,\"output_data_dir\":\"/opt/ml/output/data\",\"output_dir\":\"/opt/ml/output\",\"output_intermediate_dir\":\"/opt/ml/output/intermediate\",\"resource_config\":{\"current_host\":\"algo-1\",\"hosts\":[\"algo-1\"],\"network_interface_name\":\"eth0\"},\"user_entry_point\":\"scikit_learn_nb_titles.py\"}\u001b[0m\n",
      "\u001b[31mSM_USER_ARGS=[]\u001b[0m\n",
      "\u001b[31mSM_OUTPUT_INTERMEDIATE_DIR=/opt/ml/output/intermediate\u001b[0m\n",
      "\u001b[31mSM_CHANNEL_TRAIN=/opt/ml/input/data/train\u001b[0m\n",
      "\u001b[31mPYTHONPATH=/miniconda3/bin:/miniconda3/lib/python37.zip:/miniconda3/lib/python3.7:/miniconda3/lib/python3.7/lib-dynload:/miniconda3/lib/python3.7/site-packages\n",
      "\u001b[0m\n",
      "\u001b[31mInvoking script with the following command:\n",
      "\u001b[0m\n",
      "\u001b[31m/miniconda3/bin/python -m scikit_learn_nb_titles\n",
      "\n",
      "\u001b[0m\n",
      "\u001b[31m/miniconda3/lib/python3.7/site-packages/sklearn/externals/joblib/externals/cloudpickle/cloudpickle.py:47: DeprecationWarning: the imp module is deprecated in favour of importlib; see the module's documentation for alternative uses\n",
      "  import imp\u001b[0m\n",
      "\u001b[31m2019-11-07 18:21:51,477 sagemaker-containers INFO     Reporting training SUCCESS\u001b[0m\n",
      "\n",
      "2019-11-07 18:22:00 Uploading - Uploading generated training model\n",
      "2019-11-07 18:22:00 Completed - Training job completed\n",
      "Training seconds: 56\n",
      "Billable seconds: 56\n"
     ]
    }
   ],
   "source": [
    "# Create the model object for the titles data\n",
    "sklearn_titles = SKLearn(\n",
    "    entry_point=\"scikit_learn_nb_titles.py\",\n",
    "    train_instance_type=\"ml.c4.xlarge\",\n",
    "    role=role,\n",
    "    sagemaker_session=sagemaker_session\n",
    ")\n",
    "\n",
    "# Train titles model\n",
    "sklearn_titles.fit({\"train\": training_data_id})"
   ]
  },
  {
   "cell_type": "code",
   "execution_count": 5,
   "metadata": {},
   "outputs": [
    {
     "name": "stdout",
     "output_type": "stream",
     "text": [
      "--------------------------------------------------------------------------------------!"
     ]
    }
   ],
   "source": [
    "# Deploy titles model to endpoint\n",
    "predictor_titles = sklearn_titles.deploy(\n",
    "    initial_instance_count=1, \n",
    "    instance_type=\"ml.m4.xlarge\"\n",
    ")"
   ]
  },
  {
   "cell_type": "code",
   "execution_count": 6,
   "metadata": {},
   "outputs": [
    {
     "name": "stdout",
     "output_type": "stream",
     "text": [
      "2019-11-07 18:32:42 Starting - Starting the training job...\n",
      "2019-11-07 18:32:44 Starting - Launching requested ML instances......\n",
      "2019-11-07 18:33:43 Starting - Preparing the instances for training...\n",
      "2019-11-07 18:34:36 Downloading - Downloading input data...\n",
      "2019-11-07 18:35:09 Training - Training image download completed. Training in progress..\u001b[31m2019-11-07 18:35:10,243 sagemaker-containers INFO     Imported framework sagemaker_sklearn_container.training\u001b[0m\n",
      "\u001b[31m2019-11-07 18:35:10,245 sagemaker-containers INFO     No GPUs detected (normal if no gpus installed)\u001b[0m\n",
      "\u001b[31m2019-11-07 18:35:10,255 sagemaker_sklearn_container.training INFO     Invoking user training script.\u001b[0m\n",
      "\u001b[31m2019-11-07 18:35:10,552 sagemaker-containers INFO     Module scikit_learn_nb_titles_n_grams does not provide a setup.py. \u001b[0m\n",
      "\u001b[31mGenerating setup.py\u001b[0m\n",
      "\u001b[31m2019-11-07 18:35:10,553 sagemaker-containers INFO     Generating setup.cfg\u001b[0m\n",
      "\u001b[31m2019-11-07 18:35:10,553 sagemaker-containers INFO     Generating MANIFEST.in\u001b[0m\n",
      "\u001b[31m2019-11-07 18:35:10,553 sagemaker-containers INFO     Installing module with the following command:\u001b[0m\n",
      "\u001b[31m/miniconda3/bin/python -m pip install . \u001b[0m\n",
      "\u001b[31mProcessing /opt/ml/code\u001b[0m\n",
      "\u001b[31mBuilding wheels for collected packages: scikit-learn-nb-titles-n-grams\n",
      "  Building wheel for scikit-learn-nb-titles-n-grams (setup.py): started\n",
      "  Building wheel for scikit-learn-nb-titles-n-grams (setup.py): finished with status 'done'\n",
      "  Created wheel for scikit-learn-nb-titles-n-grams: filename=scikit_learn_nb_titles_n_grams-1.0.0-py2.py3-none-any.whl size=6246 sha256=ee4941d68f89f59d61a886a74a7d4f859c12e3ca0d4f77cbd43853551acf6c11\n",
      "  Stored in directory: /tmp/pip-ephem-wheel-cache-rf21e27f/wheels/35/24/16/37574d11bf9bde50616c67372a334f94fa8356bc7164af8ca3\u001b[0m\n",
      "\u001b[31mSuccessfully built scikit-learn-nb-titles-n-grams\u001b[0m\n",
      "\u001b[31mInstalling collected packages: scikit-learn-nb-titles-n-grams\u001b[0m\n",
      "\u001b[31mSuccessfully installed scikit-learn-nb-titles-n-grams-1.0.0\u001b[0m\n",
      "\u001b[31m2019-11-07 18:35:11,797 sagemaker-containers INFO     No GPUs detected (normal if no gpus installed)\u001b[0m\n",
      "\u001b[31m2019-11-07 18:35:11,808 sagemaker-containers INFO     Invoking user script\n",
      "\u001b[0m\n",
      "\u001b[31mTraining Env:\n",
      "\u001b[0m\n",
      "\u001b[31m{\n",
      "    \"additional_framework_parameters\": {},\n",
      "    \"channel_input_dirs\": {\n",
      "        \"train\": \"/opt/ml/input/data/train\"\n",
      "    },\n",
      "    \"current_host\": \"algo-1\",\n",
      "    \"framework_module\": \"sagemaker_sklearn_container.training:main\",\n",
      "    \"hosts\": [\n",
      "        \"algo-1\"\n",
      "    ],\n",
      "    \"hyperparameters\": {},\n",
      "    \"input_config_dir\": \"/opt/ml/input/config\",\n",
      "    \"input_data_config\": {\n",
      "        \"train\": {\n",
      "            \"TrainingInputMode\": \"File\",\n",
      "            \"S3DistributionType\": \"FullyReplicated\",\n",
      "            \"RecordWrapperType\": \"None\"\n",
      "        }\n",
      "    },\n",
      "    \"input_dir\": \"/opt/ml/input\",\n",
      "    \"is_master\": true,\n",
      "    \"job_name\": \"sagemaker-scikit-learn-2019-11-07-18-32-42-443\",\n",
      "    \"log_level\": 20,\n",
      "    \"master_hostname\": \"algo-1\",\n",
      "    \"model_dir\": \"/opt/ml/model\",\n",
      "    \"module_dir\": \"s3://sagemaker-eu-central-1-872191310305/sagemaker-scikit-learn-2019-11-07-18-32-42-443/source/sourcedir.tar.gz\",\n",
      "    \"module_name\": \"scikit_learn_nb_titles_n_grams\",\n",
      "    \"network_interface_name\": \"eth0\",\n",
      "    \"num_cpus\": 4,\n",
      "    \"num_gpus\": 0,\n",
      "    \"output_data_dir\": \"/opt/ml/output/data\",\n",
      "    \"output_dir\": \"/opt/ml/output\",\n",
      "    \"output_intermediate_dir\": \"/opt/ml/output/intermediate\",\n",
      "    \"resource_config\": {\n",
      "        \"current_host\": \"algo-1\",\n",
      "        \"hosts\": [\n",
      "            \"algo-1\"\n",
      "        ],\n",
      "        \"network_interface_name\": \"eth0\"\n",
      "    },\n",
      "    \"user_entry_point\": \"scikit_learn_nb_titles_n_grams.py\"\u001b[0m\n",
      "\u001b[31m}\n",
      "\u001b[0m\n",
      "\u001b[31mEnvironment variables:\n",
      "\u001b[0m\n",
      "\u001b[31mSM_HOSTS=[\"algo-1\"]\u001b[0m\n",
      "\u001b[31mSM_NETWORK_INTERFACE_NAME=eth0\u001b[0m\n",
      "\u001b[31mSM_HPS={}\u001b[0m\n",
      "\u001b[31mSM_USER_ENTRY_POINT=scikit_learn_nb_titles_n_grams.py\u001b[0m\n",
      "\u001b[31mSM_FRAMEWORK_PARAMS={}\u001b[0m\n",
      "\u001b[31mSM_RESOURCE_CONFIG={\"current_host\":\"algo-1\",\"hosts\":[\"algo-1\"],\"network_interface_name\":\"eth0\"}\u001b[0m\n",
      "\u001b[31mSM_INPUT_DATA_CONFIG={\"train\":{\"RecordWrapperType\":\"None\",\"S3DistributionType\":\"FullyReplicated\",\"TrainingInputMode\":\"File\"}}\u001b[0m\n",
      "\u001b[31mSM_OUTPUT_DATA_DIR=/opt/ml/output/data\u001b[0m\n",
      "\u001b[31mSM_CHANNELS=[\"train\"]\u001b[0m\n",
      "\u001b[31mSM_CURRENT_HOST=algo-1\u001b[0m\n",
      "\u001b[31mSM_MODULE_NAME=scikit_learn_nb_titles_n_grams\u001b[0m\n",
      "\u001b[31mSM_LOG_LEVEL=20\u001b[0m\n",
      "\u001b[31mSM_FRAMEWORK_MODULE=sagemaker_sklearn_container.training:main\u001b[0m\n",
      "\u001b[31mSM_INPUT_DIR=/opt/ml/input\u001b[0m\n",
      "\u001b[31mSM_INPUT_CONFIG_DIR=/opt/ml/input/config\u001b[0m\n",
      "\u001b[31mSM_OUTPUT_DIR=/opt/ml/output\u001b[0m\n",
      "\u001b[31mSM_NUM_CPUS=4\u001b[0m\n",
      "\u001b[31mSM_NUM_GPUS=0\u001b[0m\n",
      "\u001b[31mSM_MODEL_DIR=/opt/ml/model\u001b[0m\n",
      "\u001b[31mSM_MODULE_DIR=s3://sagemaker-eu-central-1-872191310305/sagemaker-scikit-learn-2019-11-07-18-32-42-443/source/sourcedir.tar.gz\u001b[0m\n",
      "\u001b[31mSM_TRAINING_ENV={\"additional_framework_parameters\":{},\"channel_input_dirs\":{\"train\":\"/opt/ml/input/data/train\"},\"current_host\":\"algo-1\",\"framework_module\":\"sagemaker_sklearn_container.training:main\",\"hosts\":[\"algo-1\"],\"hyperparameters\":{},\"input_config_dir\":\"/opt/ml/input/config\",\"input_data_config\":{\"train\":{\"RecordWrapperType\":\"None\",\"S3DistributionType\":\"FullyReplicated\",\"TrainingInputMode\":\"File\"}},\"input_dir\":\"/opt/ml/input\",\"is_master\":true,\"job_name\":\"sagemaker-scikit-learn-2019-11-07-18-32-42-443\",\"log_level\":20,\"master_hostname\":\"algo-1\",\"model_dir\":\"/opt/ml/model\",\"module_dir\":\"s3://sagemaker-eu-central-1-872191310305/sagemaker-scikit-learn-2019-11-07-18-32-42-443/source/sourcedir.tar.gz\",\"module_name\":\"scikit_learn_nb_titles_n_grams\",\"network_interface_name\":\"eth0\",\"num_cpus\":4,\"num_gpus\":0,\"output_data_dir\":\"/opt/ml/output/data\",\"output_dir\":\"/opt/ml/output\",\"output_intermediate_dir\":\"/opt/ml/output/intermediate\",\"resource_config\":{\"current_host\":\"algo-1\",\"hosts\":[\"algo-1\"],\"network_interface_name\":\"eth0\"},\"user_entry_point\":\"scikit_learn_nb_titles_n_grams.py\"}\u001b[0m\n",
      "\u001b[31mSM_USER_ARGS=[]\u001b[0m\n",
      "\u001b[31mSM_OUTPUT_INTERMEDIATE_DIR=/opt/ml/output/intermediate\u001b[0m\n",
      "\u001b[31mSM_CHANNEL_TRAIN=/opt/ml/input/data/train\u001b[0m\n",
      "\u001b[31mPYTHONPATH=/miniconda3/bin:/miniconda3/lib/python37.zip:/miniconda3/lib/python3.7:/miniconda3/lib/python3.7/lib-dynload:/miniconda3/lib/python3.7/site-packages\n",
      "\u001b[0m\n",
      "\u001b[31mInvoking script with the following command:\n",
      "\u001b[0m\n",
      "\u001b[31m/miniconda3/bin/python -m scikit_learn_nb_titles_n_grams\n",
      "\n",
      "\u001b[0m\n",
      "\u001b[31m/miniconda3/lib/python3.7/site-packages/sklearn/externals/joblib/externals/cloudpickle/cloudpickle.py:47: DeprecationWarning: the imp module is deprecated in favour of importlib; see the module's documentation for alternative uses\n",
      "  import imp\u001b[0m\n",
      "\u001b[31m2019-11-07 18:35:19,106 sagemaker-containers INFO     Reporting training SUCCESS\u001b[0m\n",
      "\n",
      "2019-11-07 18:35:25 Uploading - Uploading generated training model\n",
      "2019-11-07 18:35:25 Completed - Training job completed\n",
      "Training seconds: 49\n",
      "Billable seconds: 49\n"
     ]
    }
   ],
   "source": [
    "# Create the model object for the titles 1-3-grams data\n",
    "sklearn_titles_n_grams = SKLearn(\n",
    "    entry_point=\"scikit_learn_nb_titles_n_grams.py\",\n",
    "    train_instance_type=\"ml.c4.xlarge\",\n",
    "    role=role,\n",
    "    sagemaker_session=sagemaker_session\n",
    ")\n",
    "\n",
    "# Train titles 1-3-grams model\n",
    "sklearn_titles_n_grams.fit({\"train\": training_data_id})"
   ]
  },
  {
   "cell_type": "code",
   "execution_count": 7,
   "metadata": {},
   "outputs": [
    {
     "name": "stdout",
     "output_type": "stream",
     "text": [
      "--------------------------------------------------------------------------------------!"
     ]
    }
   ],
   "source": [
    "# Deploy titles 1-3-grams model to endpoint\n",
    "predictor_titles_n_grams = sklearn_titles_n_grams.deploy(\n",
    "    initial_instance_count=1, \n",
    "    instance_type=\"ml.m4.xlarge\"\n",
    ")"
   ]
  },
  {
   "cell_type": "markdown",
   "metadata": {},
   "source": [
    "### Generating model predictions\n",
    "\n",
    "Following the model training and deployment, I then ran the test sets appropriate to each feature set through the prediction endpoints. Prior to prediction, I again vectorised the features in the test set using the tf-idf. I ended up with 3 test datasets, one for each of the models."
   ]
  },
  {
   "cell_type": "code",
   "execution_count": 8,
   "metadata": {},
   "outputs": [],
   "source": [
    "def generate_predictions(\n",
    "    start_index: int,\n",
    "    finish_index: int,\n",
    "    data_x: \"pandas.DataFrame\",\n",
    "    data_y: \"pandas.DataFrame\",\n",
    "    predictor: \"sagemaker.sklearn.model.SKLearnPredictor\",\n",
    "    vectoriser: \"sklearn.feature_extraction.text.TfidfVectorizer\",\n",
    ") -> \"pandas.DataFrame\":\n",
    "    \"\"\"\n",
    "    This function gets predictions based on a specified (test or validation) dataset from a \n",
    "    chosen prediction endpoint, and merges them into a DataFrame with the actual values from that \n",
    "    dataset.\n",
    "    \"\"\"\n",
    "\n",
    "    data_x_tfidf = vectoriser.transform(\n",
    "        data_x[start_index:finish_index].apply(lambda x: np.str_(x))\n",
    "    )\n",
    "\n",
    "    preds = predictor.predict(data_x_tfidf.toarray())\n",
    "\n",
    "    preds_processed = pd.DataFrame(preds)\n",
    "    preds_processed = preds_processed.set_index(np.arange(start_index, finish_index, 1))\n",
    "\n",
    "    # Extract actual values from test data\n",
    "    comparison = pd.concat([data_y[start_index:finish_index], preds_processed], axis=1)\n",
    "    comparison.columns = [\"actual_text\", \"predicted_numeric\"]\n",
    "\n",
    "    return comparison"
   ]
  },
  {
   "cell_type": "code",
   "execution_count": 10,
   "metadata": {},
   "outputs": [],
   "source": [
    "@pd.api.extensions.register_dataframe_accessor(\"ml\")\n",
    "class PandasML:\n",
    "    def __init__(self, data: \"pandas.DataFrame\"):\n",
    "        self.data = data\n",
    "\n",
    "    def train_vectoriser(\n",
    "        self, max_ngrams: int = 1\n",
    "    ) -> \"sklearn.feature_extraction.text.TfidfVectorizer\":\n",
    "        \"\"\"\n",
    "        Returns a model from a Pandas DataFrame\n",
    "        \"\"\"\n",
    "\n",
    "        # Train vectoriser on full data set\n",
    "        tfidf_vect = TfidfVectorizer(max_features=5000, ngram_range=(1, max_ngrams))\n",
    "        tfidf_vect.fit(self.data.iloc[:, 0].apply(lambda x: np.str_(x)))\n",
    "\n",
    "        return tfidf_vect\n",
    "\n",
    "    def merge_predictions(\n",
    "        self,\n",
    "        predictor: \"sagemaker.sklearn.model.SKLearnPredictor\",\n",
    "        vectoriser: \"sklearn.feature_extraction.text.TfidfVectorizer\",\n",
    "    ) -> \"pandas.DataFrame\":\n",
    "\n",
    "        \"\"\"\n",
    "        Generates the predictions given a test or validation dataset and a deployed model object,\n",
    "        merges these predictions with the actual values, and generates a column indicating whether\n",
    "        a predicted category equals the actual category.\n",
    "        \"\"\"\n",
    "\n",
    "        # Create prediction input\n",
    "        test_x = self.data.iloc[:, 0].apply(lambda x: np.str_(x))\n",
    "        test_y = self.data[\"product_category\"].apply(lambda x: np.str_(x))\n",
    "\n",
    "        # Get the length of the DataFrame and set up the progress bar for iteration\n",
    "        top = int(math.floor(len(self.data) / 100.0)) * 100\n",
    "        progress = IntProgress(min=0, max=top, description=\"Predicting:\")\n",
    "        display(progress)\n",
    "\n",
    "        # NOTE: We process 100 elements at a time\n",
    "        comparison_data = generate_predictions(\n",
    "            0, 100, test_x, test_y, predictor, vectoriser\n",
    "        )\n",
    "        progress.value += 100\n",
    "        for i in np.arange(100, top, 100):\n",
    "            progress.value += 100\n",
    "            sleep(0.1)\n",
    "            predictions = generate_predictions(\n",
    "                i, i + 100, test_x, test_y, predictor, vectoriser\n",
    "            )\n",
    "            comparison_data = comparison_data.append(predictions)\n",
    "\n",
    "        # Clean the data by creating a text and numeric version each of the actual and predicted target\n",
    "        categories_to_numeric = {\n",
    "            \"Digital_Software\": 0,\n",
    "            \"Digital_Video_Games\": 1,\n",
    "            \"Software\": 2,\n",
    "        }\n",
    "        categories_to_text = {\n",
    "            0: \"Digital_Software\",\n",
    "            1: \"Digital_Video_Games\",\n",
    "            2: \"Software\",\n",
    "        }\n",
    "\n",
    "        comparison_data[\"predicted_text\"] = comparison_data[\"predicted_numeric\"].map(\n",
    "            categories_to_text\n",
    "        )\n",
    "        comparison_data[\"actual_numeric\"] = comparison_data[\"actual_text\"].map(\n",
    "            categories_to_numeric\n",
    "        )\n",
    "\n",
    "        comparison_data[\"correct\"] = np.where(\n",
    "            comparison_data[\"actual_numeric\"] == comparison_data[\"predicted_numeric\"],\n",
    "            1,\n",
    "            0,\n",
    "        )\n",
    "\n",
    "        return comparison_data"
   ]
  },
  {
   "cell_type": "code",
   "execution_count": 11,
   "metadata": {},
   "outputs": [
    {
     "data": {
      "application/vnd.jupyter.widget-view+json": {
       "model_id": "20b7cb137a364abcb638c76476e0491a",
       "version_major": 2,
       "version_minor": 0
      },
      "text/plain": [
       "IntProgress(value=0, description='Predicting:', max=59900)"
      ]
     },
     "metadata": {},
     "output_type": "display_data"
    },
    {
     "data": {
      "application/vnd.jupyter.widget-view+json": {
       "model_id": "75d3acc1c83f445da10fc04638a7a53c",
       "version_major": 2,
       "version_minor": 0
      },
      "text/plain": [
       "IntProgress(value=0, description='Predicting:', max=60000)"
      ]
     },
     "metadata": {},
     "output_type": "display_data"
    },
    {
     "data": {
      "application/vnd.jupyter.widget-view+json": {
       "model_id": "86372aef47c74779aeb87e73c25f4c59",
       "version_major": 2,
       "version_minor": 0
      },
      "text/plain": [
       "IntProgress(value=0, description='Predicting:', max=60000)"
      ]
     },
     "metadata": {},
     "output_type": "display_data"
    },
    {
     "name": "stdout",
     "output_type": "stream",
     "text": [
      "CPU times: user 1min 11s, sys: 2.45 s, total: 1min 14s\n",
      "Wall time: 8min 13s\n"
     ]
    }
   ],
   "source": [
    "%%time\n",
    "\n",
    "# Reviews test\n",
    "full_review = pd.read_csv(\"data/full_reviews.csv\")\n",
    "tfidf_reviews = full_review.ml.train_vectoriser()\n",
    "\n",
    "test_review = pd.read_csv(\"data/test_reviews.csv\")\n",
    "test_comparison_reviews = test_review.ml.merge_predictions(\n",
    "    predictor_reviews, tfidf_reviews\n",
    ")\n",
    "\n",
    "# Titles test\n",
    "full_titles = pd.read_csv(\"data/full_titles.csv\")\n",
    "tfidf_titles = full_titles.ml.train_vectoriser()\n",
    "tfidf_titles_n_grams = full_titles.ml.train_vectoriser(3)\n",
    "\n",
    "test_titles = pd.read_csv(\"data/test_titles.csv\")\n",
    "test_comparison_titles = test_titles.ml.merge_predictions(\n",
    "    predictor_titles, tfidf_titles\n",
    ")\n",
    "test_comparison_titles_n_grams = test_titles.ml.merge_predictions(\n",
    "    predictor_titles_n_grams, tfidf_titles_n_grams\n",
    ")"
   ]
  },
  {
   "cell_type": "markdown",
   "metadata": {},
   "source": [
    "## Assessing model accuracy\n",
    "\n",
    "Now that the models were trained, deployed and the predictions were run against the test datasets, I was then able to calculate the accuracy of each model. Starting with the model trained with `review_body` tokens as the features, I got an accuracy of 73.12%:"
   ]
  },
  {
   "cell_type": "code",
   "execution_count": 12,
   "metadata": {},
   "outputs": [
    {
     "data": {
      "text/plain": [
       "73.12"
      ]
     },
     "execution_count": 12,
     "metadata": {},
     "output_type": "execute_result"
    }
   ],
   "source": [
    "round(test_comparison_reviews[\"correct\"].sum() / len(test_comparison_reviews) * 100, 2)"
   ]
  },
  {
   "cell_type": "markdown",
   "metadata": {},
   "source": [
    "I then looked at the model trained with `product_title` tokens as the features, and got a much better accuracy of 85.45%."
   ]
  },
  {
   "cell_type": "code",
   "execution_count": 13,
   "metadata": {},
   "outputs": [
    {
     "data": {
      "text/plain": [
       "85.45"
      ]
     },
     "execution_count": 13,
     "metadata": {},
     "output_type": "execute_result"
    }
   ],
   "source": [
    "round(test_comparison_titles[\"correct\"].sum() / len(test_comparison_titles) * 100, 2)"
   ]
  },
  {
   "cell_type": "markdown",
   "metadata": {},
   "source": [
    "Finally, I then examined whether the addition of all 2- and 3-grams to the `product_title` features helped improve the accuracy of the model:"
   ]
  },
  {
   "cell_type": "code",
   "execution_count": 14,
   "metadata": {},
   "outputs": [
    {
     "data": {
      "text/plain": [
       "85.14"
      ]
     },
     "execution_count": 14,
     "metadata": {},
     "output_type": "execute_result"
    }
   ],
   "source": [
    "round(test_comparison_titles_n_grams[\"correct\"].sum() / len(test_comparison_titles_n_grams) * 100, 2)"
   ]
  },
  {
   "cell_type": "markdown",
   "metadata": {},
   "source": [
    "As the addition of the 2- and 3-grams did not improve model accuracy in the test set, I decided to select the second model (the one using the `product_title` tokens) as the final one for this proof-of-concept.\n",
    "\n",
    "I confirmed that this model was able to achieve a similar level of accuracy on the validation dataset. Given that this was the case, I moved onto evaluating the model's strengths and limitations."
   ]
  },
  {
   "cell_type": "code",
   "execution_count": 15,
   "metadata": {},
   "outputs": [
    {
     "data": {
      "application/vnd.jupyter.widget-view+json": {
       "model_id": "54b71732ba934f0ea4c05bee32967f4b",
       "version_major": 2,
       "version_minor": 0
      },
      "text/plain": [
       "IntProgress(value=0, description='Predicting:', max=59900)"
      ]
     },
     "metadata": {},
     "output_type": "display_data"
    },
    {
     "data": {
      "text/plain": [
       "85.17"
      ]
     },
     "execution_count": 15,
     "metadata": {},
     "output_type": "execute_result"
    }
   ],
   "source": [
    "# Titles validation\n",
    "val_titles = pd.read_csv('data/val_titles.csv')\n",
    "val_comparison_titles = val_titles.ml.merge_predictions(predictor_titles, tfidf_titles)\n",
    "\n",
    "round(val_comparison_titles[\"correct\"].sum() / len(val_comparison_titles) * 100, 2)"
   ]
  },
  {
   "cell_type": "markdown",
   "metadata": {},
   "source": [
    "### Evaluating model strengths and limitations\n",
    "\n",
    "Finally, I wanted to assess where the model was performing well, where it was limited, and assess possible ways to improve the model accuracy.\n",
    "\n",
    "To start, I created a confusion matrix to assess which categories the model was able to predict well and where it tended to be weaker."
   ]
  },
  {
   "cell_type": "code",
   "execution_count": 21,
   "metadata": {},
   "outputs": [],
   "source": [
    "def print_confusion_matrix(\n",
    "    confusion_matrix: \"numpy.ndarray\",\n",
    "    class_names: list,\n",
    "    normalize: bool = False,\n",
    "    figsize: tuple = (10, 7),\n",
    "    fontsize: int = 14,\n",
    "):\n",
    "\n",
    "    \"\"\"\n",
    "    Reads in an sklearn confusion matrix and returns a plot. Code taken from: \n",
    "    https://gist.github.com/shaypal5/94c53d765083101efc0240d776a23823\n",
    "    \"\"\"\n",
    "\n",
    "    if normalize:\n",
    "        confusion_matrix = (\n",
    "            confusion_matrix.astype(\"float\")\n",
    "            / confusion_matrix.sum(axis=1)[:, np.newaxis]\n",
    "        )\n",
    "        print(\"Normalized confusion matrix\")\n",
    "    else:\n",
    "        print(\"Confusion matrix, without normalization\")\n",
    "\n",
    "    df_cm = pd.DataFrame(confusion_matrix, index=class_names, columns=class_names,)\n",
    "    fig = plt.figure(figsize=figsize)\n",
    "    try:\n",
    "        heatmap = sns.heatmap(\n",
    "            df_cm, cmap=\"RdBu\", annot=True, fmt=\".2f\" if normalize else \"d\"\n",
    "        )\n",
    "    except ValueError:\n",
    "        raise ValueError(\"Confusion matrix values must be integers.\")\n",
    "    heatmap.yaxis.set_ticklabels(\n",
    "        heatmap.yaxis.get_ticklabels(), rotation=0, ha=\"right\", fontsize=fontsize\n",
    "    )\n",
    "    heatmap.xaxis.set_ticklabels(\n",
    "        heatmap.xaxis.get_ticklabels(), rotation=45, ha=\"right\", fontsize=fontsize\n",
    "    )\n",
    "    plt.ylabel(\"True label\")\n",
    "    plt.xlabel(\"Predicted label\")"
   ]
  },
  {
   "cell_type": "code",
   "execution_count": 22,
   "metadata": {},
   "outputs": [
    {
     "name": "stdout",
     "output_type": "stream",
     "text": [
      "Normalized confusion matrix\n"
     ]
    },
    {
     "data": {
      "image/png": "[encoded data removed]",
      "text/plain": [
       "<Figure size 720x504 with 2 Axes>"
      ]
     },
     "metadata": {},
     "output_type": "display_data"
    }
   ],
   "source": [
    "y_true = val_comparison_titles[\"actual_numeric\"].tolist()\n",
    "y_pred = val_comparison_titles[\"predicted_numeric\"].tolist()\n",
    "titles_cm = confusion_matrix(y_true, y_pred)\n",
    "print_confusion_matrix(\n",
    "    titles_cm,\n",
    "    [\"Digital Software\", \"Digital Video Games\", \"Software\"],\n",
    "    normalize=True,\n",
    "    fontsize=11,\n",
    ")"
   ]
  },
  {
   "cell_type": "markdown",
   "metadata": {},
   "source": [
    "As can be seen, the model is extremely strong at predicting the Digital Video Games category, with an accuracy of 99%. However, the model is much weaker at accurately predicting the Software category, with a much lower accuracy of 72%. The model most often misclassifies Software products as Digital Software products, and vice versa, which is unsurprising given the likely similarity of the product titles for digital- and non-digital software products. \n",
    "\n",
    "In order to further explore why the model is misclassifying Software and Digital Software products, I examined the titles of a sample of properly classified vs misclassified Digital Software and Software products."
   ]
  },
  {
   "cell_type": "code",
   "execution_count": 23,
   "metadata": {},
   "outputs": [],
   "source": [
    "soft_to_dig_soft = val_comparison_titles[\n",
    "    (val_comparison_titles[\"actual_text\"] == \"Software\")\n",
    "    & (val_comparison_titles[\"predicted_text\"] == \"Digital_Software\")\n",
    "][:5].index\n",
    "\n",
    "dig_soft_to_soft = val_comparison_titles[\n",
    "    (val_comparison_titles[\"actual_text\"] == \"Digital_Software\")\n",
    "    & (val_comparison_titles[\"predicted_text\"] == \"Software\")\n",
    "][:5].index\n",
    "\n",
    "soft_to_soft = val_comparison_titles[\n",
    "    (val_comparison_titles[\"actual_text\"] == \"Software\")\n",
    "    & (val_comparison_titles[\"predicted_text\"] == \"Software\")\n",
    "][:5].index\n",
    "\n",
    "dig_soft_to_dig_soft = val_comparison_titles[\n",
    "    (val_comparison_titles[\"actual_text\"] == \"Digital_Software\")\n",
    "    & (val_comparison_titles[\"predicted_text\"] == \"Digital_Software\")\n",
    "][:5].index"
   ]
  },
  {
   "cell_type": "code",
   "execution_count": 24,
   "metadata": {},
   "outputs": [
    {
     "data": {
      "text/html": [
       "<div>\n",
       "<style scoped>\n",
       "    .dataframe tbody tr th:only-of-type {\n",
       "        vertical-align: middle;\n",
       "    }\n",
       "\n",
       "    .dataframe tbody tr th {\n",
       "        vertical-align: top;\n",
       "    }\n",
       "\n",
       "    .dataframe thead th {\n",
       "        text-align: right;\n",
       "    }\n",
       "</style>\n",
       "<table border=\"1\" class=\"dataframe\">\n",
       "  <thead>\n",
       "    <tr style=\"text-align: right;\">\n",
       "      <th></th>\n",
       "      <th>product_title</th>\n",
       "      <th>product_category</th>\n",
       "    </tr>\n",
       "  </thead>\n",
       "  <tbody>\n",
       "    <tr>\n",
       "      <th>10</th>\n",
       "      <td>turbo tax parent v</td>\n",
       "      <td>Software</td>\n",
       "    </tr>\n",
       "    <tr>\n",
       "      <th>13</th>\n",
       "      <td>turbo tax parent v</td>\n",
       "      <td>Software</td>\n",
       "    </tr>\n",
       "    <tr>\n",
       "      <th>37</th>\n",
       "      <td>turbotax premier fed efile state</td>\n",
       "      <td>Software</td>\n",
       "    </tr>\n",
       "    <tr>\n",
       "      <th>46</th>\n",
       "      <td>mcafee antivirus plus pc</td>\n",
       "      <td>Software</td>\n",
       "    </tr>\n",
       "    <tr>\n",
       "      <th>63</th>\n",
       "      <td>turbo tax parent v</td>\n",
       "      <td>Software</td>\n",
       "    </tr>\n",
       "  </tbody>\n",
       "</table>\n",
       "</div>"
      ],
      "text/plain": [
       "                       product_title product_category\n",
       "10                turbo tax parent v         Software\n",
       "13                turbo tax parent v         Software\n",
       "37  turbotax premier fed efile state         Software\n",
       "46          mcafee antivirus plus pc         Software\n",
       "63                turbo tax parent v         Software"
      ]
     },
     "execution_count": 24,
     "metadata": {},
     "output_type": "execute_result"
    }
   ],
   "source": [
    "# Predicted Digital Software when the actual category was Software\n",
    "val_titles.loc[soft_to_dig_soft]"
   ]
  },
  {
   "cell_type": "code",
   "execution_count": 25,
   "metadata": {},
   "outputs": [
    {
     "data": {
      "text/html": [
       "<div>\n",
       "<style scoped>\n",
       "    .dataframe tbody tr th:only-of-type {\n",
       "        vertical-align: middle;\n",
       "    }\n",
       "\n",
       "    .dataframe tbody tr th {\n",
       "        vertical-align: top;\n",
       "    }\n",
       "\n",
       "    .dataframe thead th {\n",
       "        text-align: right;\n",
       "    }\n",
       "</style>\n",
       "<table border=\"1\" class=\"dataframe\">\n",
       "  <thead>\n",
       "    <tr style=\"text-align: right;\">\n",
       "      <th></th>\n",
       "      <th>product_title</th>\n",
       "      <th>product_category</th>\n",
       "    </tr>\n",
       "  </thead>\n",
       "  <tbody>\n",
       "    <tr>\n",
       "      <th>45</th>\n",
       "      <td>adobe photoshop lightroom</td>\n",
       "      <td>Digital_Software</td>\n",
       "    </tr>\n",
       "    <tr>\n",
       "      <th>82</th>\n",
       "      <td>microsoft visio standard pc user</td>\n",
       "      <td>Digital_Software</td>\n",
       "    </tr>\n",
       "    <tr>\n",
       "      <th>115</th>\n",
       "      <td>music maker</td>\n",
       "      <td>Digital_Software</td>\n",
       "    </tr>\n",
       "    <tr>\n",
       "      <th>121</th>\n",
       "      <td>power pdf standard english</td>\n",
       "      <td>Digital_Software</td>\n",
       "    </tr>\n",
       "    <tr>\n",
       "      <th>129</th>\n",
       "      <td>adobe illustrator cs</td>\n",
       "      <td>Digital_Software</td>\n",
       "    </tr>\n",
       "  </tbody>\n",
       "</table>\n",
       "</div>"
      ],
      "text/plain": [
       "                        product_title  product_category\n",
       "45          adobe photoshop lightroom  Digital_Software\n",
       "82   microsoft visio standard pc user  Digital_Software\n",
       "115                       music maker  Digital_Software\n",
       "121        power pdf standard english  Digital_Software\n",
       "129              adobe illustrator cs  Digital_Software"
      ]
     },
     "execution_count": 25,
     "metadata": {},
     "output_type": "execute_result"
    }
   ],
   "source": [
    "# Predicted Software when the actual category was Digital Software\n",
    "val_titles.loc[dig_soft_to_soft]"
   ]
  },
  {
   "cell_type": "code",
   "execution_count": 26,
   "metadata": {},
   "outputs": [
    {
     "data": {
      "text/html": [
       "<div>\n",
       "<style scoped>\n",
       "    .dataframe tbody tr th:only-of-type {\n",
       "        vertical-align: middle;\n",
       "    }\n",
       "\n",
       "    .dataframe tbody tr th {\n",
       "        vertical-align: top;\n",
       "    }\n",
       "\n",
       "    .dataframe thead th {\n",
       "        text-align: right;\n",
       "    }\n",
       "</style>\n",
       "<table border=\"1\" class=\"dataframe\">\n",
       "  <thead>\n",
       "    <tr style=\"text-align: right;\">\n",
       "      <th></th>\n",
       "      <th>product_title</th>\n",
       "      <th>product_category</th>\n",
       "    </tr>\n",
       "  </thead>\n",
       "  <tbody>\n",
       "    <tr>\n",
       "      <th>3</th>\n",
       "      <td>microsoft windows xp home edition version</td>\n",
       "      <td>Software</td>\n",
       "    </tr>\n",
       "    <tr>\n",
       "      <th>9</th>\n",
       "      <td>iolo system mechanic professional pcs</td>\n",
       "      <td>Software</td>\n",
       "    </tr>\n",
       "    <tr>\n",
       "      <th>11</th>\n",
       "      <td>family tree maker essentials old version</td>\n",
       "      <td>Software</td>\n",
       "    </tr>\n",
       "    <tr>\n",
       "      <th>14</th>\n",
       "      <td>instant immersion spanish platinum</td>\n",
       "      <td>Software</td>\n",
       "    </tr>\n",
       "    <tr>\n",
       "      <th>15</th>\n",
       "      <td>ubuntu linux special edition dvd includes bit ...</td>\n",
       "      <td>Software</td>\n",
       "    </tr>\n",
       "  </tbody>\n",
       "</table>\n",
       "</div>"
      ],
      "text/plain": [
       "                                        product_title product_category\n",
       "3           microsoft windows xp home edition version         Software\n",
       "9               iolo system mechanic professional pcs         Software\n",
       "11           family tree maker essentials old version         Software\n",
       "14                 instant immersion spanish platinum         Software\n",
       "15  ubuntu linux special edition dvd includes bit ...         Software"
      ]
     },
     "execution_count": 26,
     "metadata": {},
     "output_type": "execute_result"
    }
   ],
   "source": [
    "# Correctly predicted Software category\n",
    "val_titles.loc[soft_to_soft]"
   ]
  },
  {
   "cell_type": "code",
   "execution_count": 27,
   "metadata": {},
   "outputs": [
    {
     "data": {
      "text/html": [
       "<div>\n",
       "<style scoped>\n",
       "    .dataframe tbody tr th:only-of-type {\n",
       "        vertical-align: middle;\n",
       "    }\n",
       "\n",
       "    .dataframe tbody tr th {\n",
       "        vertical-align: top;\n",
       "    }\n",
       "\n",
       "    .dataframe thead th {\n",
       "        text-align: right;\n",
       "    }\n",
       "</style>\n",
       "<table border=\"1\" class=\"dataframe\">\n",
       "  <thead>\n",
       "    <tr style=\"text-align: right;\">\n",
       "      <th></th>\n",
       "      <th>product_title</th>\n",
       "      <th>product_category</th>\n",
       "    </tr>\n",
       "  </thead>\n",
       "  <tbody>\n",
       "    <tr>\n",
       "      <th>0</th>\n",
       "      <td>avast free antivirus download</td>\n",
       "      <td>Digital_Software</td>\n",
       "    </tr>\n",
       "    <tr>\n",
       "      <th>1</th>\n",
       "      <td>mavis beacon keyboarding kidz</td>\n",
       "      <td>Digital_Software</td>\n",
       "    </tr>\n",
       "    <tr>\n",
       "      <th>4</th>\n",
       "      <td>avast free antivirus download</td>\n",
       "      <td>Digital_Software</td>\n",
       "    </tr>\n",
       "    <tr>\n",
       "      <th>8</th>\n",
       "      <td>quicken home business</td>\n",
       "      <td>Digital_Software</td>\n",
       "    </tr>\n",
       "    <tr>\n",
       "      <th>16</th>\n",
       "      <td>turbotax premier federal e file state old version</td>\n",
       "      <td>Digital_Software</td>\n",
       "    </tr>\n",
       "  </tbody>\n",
       "</table>\n",
       "</div>"
      ],
      "text/plain": [
       "                                        product_title  product_category\n",
       "0                       avast free antivirus download  Digital_Software\n",
       "1                       mavis beacon keyboarding kidz  Digital_Software\n",
       "4                       avast free antivirus download  Digital_Software\n",
       "8                               quicken home business  Digital_Software\n",
       "16  turbotax premier federal e file state old version  Digital_Software"
      ]
     },
     "execution_count": 27,
     "metadata": {},
     "output_type": "execute_result"
    }
   ],
   "source": [
    "# Correctly predicted Digital Software category\n",
    "val_titles.loc[dig_soft_to_dig_soft]"
   ]
  },
  {
   "cell_type": "markdown",
   "metadata": {},
   "source": [
    "From this brief look into the features that allowed the correct classification of Software, terms such as \"dvd\" or \"old version\" likely allowed the identification of physical copies of software. On the other hand, terms that allowed the correct classification of Digital Software products likely include terms such as \"efile\" or \"download\". It is difficult to see with the misclassified products which features mark them as digital or physical, making it likely that the algorithm did not have enough information to make the correct decision in these cases."
   ]
  },
  {
   "cell_type": "markdown",
   "metadata": {},
   "source": [
    "### Further developing this model"
   ]
  },
  {
   "cell_type": "markdown",
   "metadata": {},
   "source": [
    "The current solution is quite simple, but does already have an accuracy of 86%. Depending on the manual misclassification rate, this may already be an improvement; however, there are quite a few options that could improve the accuracy of this model.\n",
    "\n",
    "#### Feature development\n",
    "As it is clear that the features that describe Software and Digital Software products are very similar, the simplest solution to improve the model accuracy could be to use additional or different features for the model, such as the seller of the product.\n",
    "\n",
    "#### Text cleaning\n",
    "There are additional text cleaning steps we could take that would further reduce the noise in our model. I could use lemmatisation in order to combine all grammatical variants of the same word, which would consolidate the signal from that feature.\n",
    "\n",
    "In addition, given that the greedy creation of n-grams used in the tf-idf tokeniser failed to improve the model accuracy, I could try a more selective approach. One possible idea would be to use past queries to identify meaningful n-grams.\n",
    "\n",
    "#### Models\n",
    "As the model that I used was quite unsophisticated, we could attempt to improve accuracy using a more complicated model. One alternative to Naive Bayes is Support Vector Machines, which have a better ability than Naive Bayes classifiers to tell apart closely related categories.\n",
    "\n",
    "#### Improve training set\n",
    "One assumption I made when training this model is that there are no misclassified products in the training data. However, this may not be the case, and it could be worth investigating whether there are any errors in the training data. If so, I could build a more robust training set using manual classification through SageMaker Ground Truth.\n",
    "    \n",
    "#### Further considerations\n",
    "We should make sure that the model also has improved accuracy when all categories are used, rather than just the three used for this proof-of-concept.\n",
    "\n",
    "We should also think about how we would like to implement this solution. It would be preferrable to correctly classify products before they even go on sale on the site; therefore, I suggest that we could use the pipeline in a category autosuggest when sellers create the page to sell their product. Implementing the pipeline in this manner means that we would need to ensure that the model can continue to return predictions quickly, as well as only use features available at the time the product page is being created.\n",
    "\n",
    "Finally, we should consider whether this solution needs to be implemented outside of the US market. For example, a predictor based on English-language text will not work in a non-English-speaking market. As such, we should either look at features that will be consistent across different Amazon brands, or think about developing different categorisation algorithms for each different market."
   ]
  }
 ],
 "metadata": {
  "kernelspec": {
   "display_name": "Python 3",
   "language": "python",
   "name": "python3"
  },
  "language_info": {
   "codemirror_mode": {
    "name": "ipython",
    "version": 3
   },
   "file_extension": ".py",
   "mimetype": "text/x-python",
   "name": "python",
   "nbconvert_exporter": "python",
   "pygments_lexer": "ipython3",
   "version": "3.7.6"
  }
 },
 "nbformat": 4,
 "nbformat_minor": 2
}
