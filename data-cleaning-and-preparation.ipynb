{
 "cells": [
  {
   "cell_type": "markdown",
   "metadata": {},
   "source": [
    "# Classification with scikit-learn and Sagemaker\n",
    "\n",
    "## Data exploration and preparation\n",
    "\n",
    "### Prepare imports and data connections\n",
    "\n",
    "The required packages are imported below. As can be seen, I have imported `pyathena` in order to connect to the reviews data. I have also imported `nltk`'s `stopwords` and `string`'s `punctuation` packages for data cleaning, as well as `pandas` and `numpy` for handling and transforming data."
   ]
  },
  {
   "cell_type": "code",
   "execution_count": null,
   "metadata": {},
   "outputs": [],
   "source": [
    "!pip3 install -U --user pandas statsmodels plotnine pyathena[pandas] future"
   ]
  },
  {
   "cell_type": "code",
   "execution_count": 2,
   "metadata": {},
   "outputs": [
    {
     "name": "stdout",
     "output_type": "stream",
     "text": [
      "[nltk_data] Downloading package stopwords to\n",
      "[nltk_data]     /home/ec2-user/nltk_data...\n",
      "[nltk_data]   Package stopwords is already up-to-date!\n"
     ]
    }
   ],
   "source": [
    "import nltk\n",
    "\n",
    "nltk.download(\"stopwords\")\n",
    "\n",
    "import pandas as pd\n",
    "import numpy as np\n",
    "\n",
    "from pyathena import connect\n",
    "from string import punctuation\n",
    "from sklearn import model_selection\n",
    "from plotnine import *\n",
    "\n",
    "from nltk.corpus import stopwords\n",
    "\n",
    "stop = stopwords.words(\"english\")"
   ]
  },
  {
   "cell_type": "markdown",
   "metadata": {},
   "source": [
    "Given that the reviews data are both large and stored in separate files per product category, I thought that the easiest way to work with them would be to read the data directly from the parquet files from Athena."
   ]
  },
  {
   "cell_type": "code",
   "execution_count": 3,
   "metadata": {},
   "outputs": [],
   "source": [
    "# Make connection to Athena database\n",
    "conn = connect(\n",
    "    aws_access_key_id=\"XXX\",\n",
    "    aws_secret_access_key=\"XXX\",\n",
    "    s3_staging_dir=\"s3://athena-jodie-burchell/\",\n",
    "    region_name=\"us-east-2\",\n",
    ")"
   ]
  },
  {
   "cell_type": "markdown",
   "metadata": {},
   "source": [
    "I then confirmed that I had accessed the full dataset by checking the number of rows in the table. As the full dataset apparently contains around 130+ million observations, this number seemed correct."
   ]
  },
  {
   "cell_type": "code",
   "execution_count": 4,
   "metadata": {},
   "outputs": [
    {
     "data": {
      "text/html": [
       "<div>\n",
       "<style scoped>\n",
       "    .dataframe tbody tr th:only-of-type {\n",
       "        vertical-align: middle;\n",
       "    }\n",
       "\n",
       "    .dataframe tbody tr th {\n",
       "        vertical-align: top;\n",
       "    }\n",
       "\n",
       "    .dataframe thead th {\n",
       "        text-align: right;\n",
       "    }\n",
       "</style>\n",
       "<table border=\"1\" class=\"dataframe\">\n",
       "  <thead>\n",
       "    <tr style=\"text-align: right;\">\n",
       "      <th></th>\n",
       "      <th>_col0</th>\n",
       "    </tr>\n",
       "  </thead>\n",
       "  <tbody>\n",
       "    <tr>\n",
       "      <th>0</th>\n",
       "      <td>160796570</td>\n",
       "    </tr>\n",
       "  </tbody>\n",
       "</table>\n",
       "</div>"
      ],
      "text/plain": [
       "       _col0\n",
       "0  160796570"
      ]
     },
     "execution_count": 4,
     "metadata": {},
     "output_type": "execute_result"
    }
   ],
   "source": [
    "pd.read_sql(\"SELECT COUNT(*) FROM amazonreviews.amazon_reviews_parquet\", conn)"
   ]
  },
  {
   "cell_type": "markdown",
   "metadata": {},
   "source": [
    "### Data exploration\n",
    "\n",
    "In order to get a sense of the data, I ran some initial queries. Firstly, I looked at the first 5 rows of the data to orientate myself with the dataset."
   ]
  },
  {
   "cell_type": "code",
   "execution_count": 5,
   "metadata": {},
   "outputs": [
    {
     "data": {
      "text/html": [
       "<div>\n",
       "<style scoped>\n",
       "    .dataframe tbody tr th:only-of-type {\n",
       "        vertical-align: middle;\n",
       "    }\n",
       "\n",
       "    .dataframe tbody tr th {\n",
       "        vertical-align: top;\n",
       "    }\n",
       "\n",
       "    .dataframe thead th {\n",
       "        text-align: right;\n",
       "    }\n",
       "</style>\n",
       "<table border=\"1\" class=\"dataframe\">\n",
       "  <thead>\n",
       "    <tr style=\"text-align: right;\">\n",
       "      <th></th>\n",
       "      <th>marketplace</th>\n",
       "      <th>customer_id</th>\n",
       "      <th>review_id</th>\n",
       "      <th>product_id</th>\n",
       "      <th>product_parent</th>\n",
       "      <th>product_title</th>\n",
       "      <th>star_rating</th>\n",
       "      <th>helpful_votes</th>\n",
       "      <th>total_votes</th>\n",
       "      <th>vine</th>\n",
       "      <th>verified_purchase</th>\n",
       "      <th>review_headline</th>\n",
       "      <th>review_body</th>\n",
       "      <th>review_date</th>\n",
       "      <th>year</th>\n",
       "      <th>product_category</th>\n",
       "    </tr>\n",
       "  </thead>\n",
       "  <tbody>\n",
       "    <tr>\n",
       "      <th>0</th>\n",
       "      <td>US</td>\n",
       "      <td>37441986</td>\n",
       "      <td>R2H287L0BUP89U</td>\n",
       "      <td>B00CT780C2</td>\n",
       "      <td>473048287</td>\n",
       "      <td>Amazon.com eGift Cards</td>\n",
       "      <td>4</td>\n",
       "      <td>0</td>\n",
       "      <td>0</td>\n",
       "      <td>N</td>\n",
       "      <td>Y</td>\n",
       "      <td>Perfect Gift</td>\n",
       "      <td>I love giving my son amazon gift cards. That w...</td>\n",
       "      <td>16170</td>\n",
       "      <td>2014</td>\n",
       "      <td>Gift_Card</td>\n",
       "    </tr>\n",
       "    <tr>\n",
       "      <th>1</th>\n",
       "      <td>US</td>\n",
       "      <td>20676035</td>\n",
       "      <td>R1222MJHP5QWXE</td>\n",
       "      <td>B004LLILFA</td>\n",
       "      <td>361255549</td>\n",
       "      <td>Amazon eGift Card - Thank You, Teacher (Chalkb...</td>\n",
       "      <td>5</td>\n",
       "      <td>1</td>\n",
       "      <td>1</td>\n",
       "      <td>N</td>\n",
       "      <td>Y</td>\n",
       "      <td>Five Stars</td>\n",
       "      <td>Great gift for outstanding teachers in our ass...</td>\n",
       "      <td>16391</td>\n",
       "      <td>2014</td>\n",
       "      <td>Gift_Card</td>\n",
       "    </tr>\n",
       "    <tr>\n",
       "      <th>2</th>\n",
       "      <td>US</td>\n",
       "      <td>45090731</td>\n",
       "      <td>R32ECJRNTB61K8</td>\n",
       "      <td>B004LLIL4G</td>\n",
       "      <td>307223063</td>\n",
       "      <td>Amazon eGift Card - Happy Birthday (Birds)</td>\n",
       "      <td>5</td>\n",
       "      <td>0</td>\n",
       "      <td>0</td>\n",
       "      <td>N</td>\n",
       "      <td>Y</td>\n",
       "      <td>happy birthday card</td>\n",
       "      <td>gift cards from Amazon are always an appreciat...</td>\n",
       "      <td>16170</td>\n",
       "      <td>2014</td>\n",
       "      <td>Gift_Card</td>\n",
       "    </tr>\n",
       "    <tr>\n",
       "      <th>3</th>\n",
       "      <td>US</td>\n",
       "      <td>2207141</td>\n",
       "      <td>RLTEU3JZ1IJAA</td>\n",
       "      <td>B004LLILDM</td>\n",
       "      <td>87389551</td>\n",
       "      <td>Amazon eGift Card - Thank You</td>\n",
       "      <td>5</td>\n",
       "      <td>0</td>\n",
       "      <td>0</td>\n",
       "      <td>N</td>\n",
       "      <td>Y</td>\n",
       "      <td>Five Stars</td>\n",
       "      <td>gracias.</td>\n",
       "      <td>16391</td>\n",
       "      <td>2014</td>\n",
       "      <td>Gift_Card</td>\n",
       "    </tr>\n",
       "    <tr>\n",
       "      <th>4</th>\n",
       "      <td>US</td>\n",
       "      <td>15258</td>\n",
       "      <td>R1ZAX1TN66QOU6</td>\n",
       "      <td>B004LLIKVU</td>\n",
       "      <td>473048287</td>\n",
       "      <td>Amazon.com eGift Cards</td>\n",
       "      <td>5</td>\n",
       "      <td>0</td>\n",
       "      <td>0</td>\n",
       "      <td>N</td>\n",
       "      <td>Y</td>\n",
       "      <td>easy breezy</td>\n",
       "      <td>gift card was sent quickly and using it is a c...</td>\n",
       "      <td>16170</td>\n",
       "      <td>2014</td>\n",
       "      <td>Gift_Card</td>\n",
       "    </tr>\n",
       "  </tbody>\n",
       "</table>\n",
       "</div>"
      ],
      "text/plain": [
       "  marketplace customer_id       review_id  product_id product_parent  \\\n",
       "0          US    37441986  R2H287L0BUP89U  B00CT780C2      473048287   \n",
       "1          US    20676035  R1222MJHP5QWXE  B004LLILFA      361255549   \n",
       "2          US    45090731  R32ECJRNTB61K8  B004LLIL4G      307223063   \n",
       "3          US     2207141   RLTEU3JZ1IJAA  B004LLILDM       87389551   \n",
       "4          US       15258  R1ZAX1TN66QOU6  B004LLIKVU      473048287   \n",
       "\n",
       "                                       product_title  star_rating  \\\n",
       "0                             Amazon.com eGift Cards            4   \n",
       "1  Amazon eGift Card - Thank You, Teacher (Chalkb...            5   \n",
       "2         Amazon eGift Card - Happy Birthday (Birds)            5   \n",
       "3                      Amazon eGift Card - Thank You            5   \n",
       "4                             Amazon.com eGift Cards            5   \n",
       "\n",
       "   helpful_votes  total_votes vine verified_purchase      review_headline  \\\n",
       "0              0            0    N                 Y         Perfect Gift   \n",
       "1              1            1    N                 Y           Five Stars   \n",
       "2              0            0    N                 Y  happy birthday card   \n",
       "3              0            0    N                 Y           Five Stars   \n",
       "4              0            0    N                 Y          easy breezy   \n",
       "\n",
       "                                         review_body  review_date  year  \\\n",
       "0  I love giving my son amazon gift cards. That w...        16170  2014   \n",
       "1  Great gift for outstanding teachers in our ass...        16391  2014   \n",
       "2  gift cards from Amazon are always an appreciat...        16170  2014   \n",
       "3                                           gracias.        16391  2014   \n",
       "4  gift card was sent quickly and using it is a c...        16170  2014   \n",
       "\n",
       "  product_category  \n",
       "0        Gift_Card  \n",
       "1        Gift_Card  \n",
       "2        Gift_Card  \n",
       "3        Gift_Card  \n",
       "4        Gift_Card  "
      ]
     },
     "execution_count": 5,
     "metadata": {},
     "output_type": "execute_result"
    }
   ],
   "source": [
    "pd.read_sql(\"SELECT * FROM amazonreviews.amazon_reviews_parquet LIMIT 5\", conn)"
   ]
  },
  {
   "cell_type": "markdown",
   "metadata": {},
   "source": [
    "Given that the focus of this POC is classifying items into the product categories \"Software\", \"Digital Software\" and \"Digital Video Games\", I firstly got a count of the number of observations in each of these categories."
   ]
  },
  {
   "cell_type": "code",
   "execution_count": 6,
   "metadata": {},
   "outputs": [
    {
     "data": {
      "text/html": [
       "<div>\n",
       "<style scoped>\n",
       "    .dataframe tbody tr th:only-of-type {\n",
       "        vertical-align: middle;\n",
       "    }\n",
       "\n",
       "    .dataframe tbody tr th {\n",
       "        vertical-align: top;\n",
       "    }\n",
       "\n",
       "    .dataframe thead th {\n",
       "        text-align: right;\n",
       "    }\n",
       "</style>\n",
       "<table border=\"1\" class=\"dataframe\">\n",
       "  <thead>\n",
       "    <tr style=\"text-align: right;\">\n",
       "      <th></th>\n",
       "      <th>product_category</th>\n",
       "      <th>_col1</th>\n",
       "    </tr>\n",
       "  </thead>\n",
       "  <tbody>\n",
       "    <tr>\n",
       "      <th>0</th>\n",
       "      <td>Digital_Software</td>\n",
       "      <td>102084</td>\n",
       "    </tr>\n",
       "    <tr>\n",
       "      <th>1</th>\n",
       "      <td>Digital_Video_Games</td>\n",
       "      <td>145431</td>\n",
       "    </tr>\n",
       "    <tr>\n",
       "      <th>2</th>\n",
       "      <td>Software</td>\n",
       "      <td>342135</td>\n",
       "    </tr>\n",
       "  </tbody>\n",
       "</table>\n",
       "</div>"
      ],
      "text/plain": [
       "      product_category   _col1\n",
       "0     Digital_Software  102084\n",
       "1  Digital_Video_Games  145431\n",
       "2             Software  342135"
      ]
     },
     "execution_count": 6,
     "metadata": {},
     "output_type": "execute_result"
    }
   ],
   "source": [
    "pd.read_sql(\n",
    "            \"\"\"\n",
    "            SELECT product_category, COUNT(*) \n",
    "                FROM amazonreviews.amazon_reviews_parquet\n",
    "                WHERE product_category IN ('Software', 'Digital_Software', 'Digital_Video_Games')\n",
    "                GROUP BY product_category\n",
    "            \"\"\",\n",
    "    conn,\n",
    ")"
   ]
  },
  {
   "cell_type": "markdown",
   "metadata": {},
   "source": [
    "I also explored two other categories that may interact with the product category:\n",
    "* **Marketplace:** Products may be classified differently in different markets. In addition, reviews and product titles may be in multiple languages.\n",
    "* **Year:** Reviews about products may have different year ranges - for example, digital products may be newer than non-digital products.\n",
    "\n",
    "To start, I created a crosstab of the number of reviews in each of the three categories by marketplace."
   ]
  },
  {
   "cell_type": "code",
   "execution_count": 22,
   "metadata": {},
   "outputs": [
    {
     "data": {
      "text/html": [
       "<div>\n",
       "<style scoped>\n",
       "    .dataframe tbody tr th:only-of-type {\n",
       "        vertical-align: middle;\n",
       "    }\n",
       "\n",
       "    .dataframe tbody tr th {\n",
       "        vertical-align: top;\n",
       "    }\n",
       "\n",
       "    .dataframe thead th {\n",
       "        text-align: right;\n",
       "    }\n",
       "</style>\n",
       "<table border=\"1\" class=\"dataframe\">\n",
       "  <thead>\n",
       "    <tr style=\"text-align: right;\">\n",
       "      <th></th>\n",
       "      <th>product_category</th>\n",
       "      <th>marketplace</th>\n",
       "      <th>_col2</th>\n",
       "    </tr>\n",
       "  </thead>\n",
       "  <tbody>\n",
       "    <tr>\n",
       "      <th>0</th>\n",
       "      <td>Digital_Software</td>\n",
       "      <td>US</td>\n",
       "      <td>102084</td>\n",
       "    </tr>\n",
       "    <tr>\n",
       "      <th>1</th>\n",
       "      <td>Digital_Video_Games</td>\n",
       "      <td>US</td>\n",
       "      <td>145431</td>\n",
       "    </tr>\n",
       "    <tr>\n",
       "      <th>2</th>\n",
       "      <td>Software</td>\n",
       "      <td>US</td>\n",
       "      <td>341984</td>\n",
       "    </tr>\n",
       "    <tr>\n",
       "      <th>3</th>\n",
       "      <td>Software</td>\n",
       "      <td>UK</td>\n",
       "      <td>77</td>\n",
       "    </tr>\n",
       "    <tr>\n",
       "      <th>4</th>\n",
       "      <td>Software</td>\n",
       "      <td>JP</td>\n",
       "      <td>54</td>\n",
       "    </tr>\n",
       "    <tr>\n",
       "      <th>5</th>\n",
       "      <td>Software</td>\n",
       "      <td>DE</td>\n",
       "      <td>20</td>\n",
       "    </tr>\n",
       "  </tbody>\n",
       "</table>\n",
       "</div>"
      ],
      "text/plain": [
       "      product_category marketplace   _col2\n",
       "0     Digital_Software          US  102084\n",
       "1  Digital_Video_Games          US  145431\n",
       "2             Software          US  341984\n",
       "3             Software          UK      77\n",
       "4             Software          JP      54\n",
       "5             Software          DE      20"
      ]
     },
     "execution_count": 22,
     "metadata": {},
     "output_type": "execute_result"
    }
   ],
   "source": [
    "pd.read_sql(\n",
    "            \"\"\"\n",
    "            SELECT product_category, marketplace, COUNT(*) \n",
    "                FROM amazonreviews.amazon_reviews_parquet\n",
    "                WHERE product_category IN ('Software', 'Digital_Software', 'Digital_Video_Games')\n",
    "                GROUP BY product_category, marketplace\n",
    "                ORDER BY product_category\n",
    "            \"\"\",\n",
    "    conn,\n",
    ")"
   ]
  },
  {
   "cell_type": "markdown",
   "metadata": {},
   "source": [
    "As can be seen, there are very few reviews for these product categories outside of the US, so it is safe to assume that the analysis can be restricted to just the US market.\n",
    "\n",
    "I next examined the relationship between year and the three product categories:"
   ]
  },
  {
   "cell_type": "code",
   "execution_count": 8,
   "metadata": {},
   "outputs": [],
   "source": [
    "year_data = pd.read_sql(\"\"\"\n",
    "                        SELECT product_category, year, COUNT(*) AS freq\n",
    "                            FROM amazonreviews.amazon_reviews_parquet\n",
    "                            WHERE product_category IN ('Software', 'Digital_Software', 'Digital_Video_Games')\n",
    "                                AND marketplace = 'US'\n",
    "                            GROUP BY product_category, year\n",
    "                            ORDER BY product_category, year\n",
    "                            \"\"\", conn)"
   ]
  },
  {
   "cell_type": "code",
   "execution_count": 23,
   "metadata": {},
   "outputs": [
    {
     "data": {
      "image/png": "[encoded data removed]",
      "text/plain": [
       "<Figure size 640x480 with 1 Axes>"
      ]
     },
     "metadata": {},
     "output_type": "display_data"
    },
    {
     "data": {
      "text/plain": [
       "<ggplot: (8748219601949)>"
      ]
     },
     "execution_count": 23,
     "metadata": {},
     "output_type": "execute_result"
    }
   ],
   "source": [
    "cat_names = {\n",
    "    \"product_category\": {\n",
    "        \"Digital_Software\": \"Digital Software\",\n",
    "        \"Digital_Video_Games\": \"Digital Video Games\",\n",
    "    }\n",
    "}\n",
    "year_data.replace(cat_names, inplace=True)\n",
    "\n",
    "(\n",
    "    ggplot(year_data, aes(\"year\", \"freq\", fill=\"product_category\"))\n",
    "    + geom_col()\n",
    "    + scale_x_continuous(\n",
    "        breaks=np.arange(year_data[\"year\"].min() + 1, year_data[\"year\"].max() + 1, 2)\n",
    "    )\n",
    "    + ggtitle(\"Product category frequency by year\")\n",
    "    + xlab(\"Year\")\n",
    "    + ylab(\"Number of reviews\")\n",
    "    + scale_fill_brewer(type=\"qual\", palette=\"Accent\")\n",
    "    + theme_bw()\n",
    "    + theme(legend_title=element_blank())\n",
    ")"
   ]
  },
  {
   "cell_type": "markdown",
   "metadata": {},
   "source": [
    "This graph demonstrates that 2010 was the first year that all three product categories were being used on the Amazon US site. As Digital Software and Digital Video Games categories didn't exist prior to this year, products that might have been otherwise placed in those categories during that time may have been categorised as Software. As such, I will limit my training data to 2010 onwards in order to remove this possible source of error.\n",
    "\n",
    "Having now defined a training sample, I then turned to deciding what fields to use to extract features to train the model. I decided that two of the text fields were likely to contain the best information in the dataset to allow a model to tell the categories apart: \n",
    "* **review_body**: This field contains the body of reviews left for products on Amazon US. \n",
    "* **product_title**: This field is the title of each of the products on Amazon US.\n",
    "\n",
    "Both of these fields contain a lot of category-specific words which would be informative features for a model. For example, the category Digital Video Games contains a number of useful terms in both fields, such as \"Download\" in the `product_title` field, and \"game\" and \"graphics\" in the `review_body` field."
   ]
  },
  {
   "cell_type": "code",
   "execution_count": 13,
   "metadata": {},
   "outputs": [
    {
     "data": {
      "text/html": [
       "<div>\n",
       "<style scoped>\n",
       "    .dataframe tbody tr th:only-of-type {\n",
       "        vertical-align: middle;\n",
       "    }\n",
       "\n",
       "    .dataframe tbody tr th {\n",
       "        vertical-align: top;\n",
       "    }\n",
       "\n",
       "    .dataframe thead th {\n",
       "        text-align: right;\n",
       "    }\n",
       "</style>\n",
       "<table border=\"1\" class=\"dataframe\">\n",
       "  <thead>\n",
       "    <tr style=\"text-align: right;\">\n",
       "      <th></th>\n",
       "      <th>review_body</th>\n",
       "      <th>product_title</th>\n",
       "    </tr>\n",
       "  </thead>\n",
       "  <tbody>\n",
       "    <tr>\n",
       "      <th>0</th>\n",
       "      <td>thank you very much!!!!!!</td>\n",
       "      <td>Thief Gold [Download]</td>\n",
       "    </tr>\n",
       "    <tr>\n",
       "      <th>1</th>\n",
       "      <td>The only bad part is that you can't use the mo...</td>\n",
       "      <td>Doom 3 BFG Edition</td>\n",
       "    </tr>\n",
       "    <tr>\n",
       "      <th>2</th>\n",
       "      <td>came  on time works great</td>\n",
       "      <td>Dungeon Siege 3</td>\n",
       "    </tr>\n",
       "  </tbody>\n",
       "</table>\n",
       "</div>"
      ],
      "text/plain": [
       "                                         review_body          product_title\n",
       "0                          thank you very much!!!!!!  Thief Gold [Download]\n",
       "1  The only bad part is that you can't use the mo...     Doom 3 BFG Edition\n",
       "2                          came  on time works great        Dungeon Siege 3"
      ]
     },
     "execution_count": 13,
     "metadata": {},
     "output_type": "execute_result"
    }
   ],
   "source": [
    "pd.read_sql(\"\"\"\n",
    "            SELECT review_body, product_title\n",
    "                FROM amazonreviews.amazon_reviews_parquet\n",
    "                WHERE product_category = 'Digital_Video_Games'\n",
    "                    AND marketplace = 'US'\n",
    "                    AND year >= 2010\n",
    "                LIMIT 3\n",
    "            \"\"\"\n",
    "            , conn)"
   ]
  },
  {
   "cell_type": "markdown",
   "metadata": {},
   "source": [
    "In addition, when inspecting the data I found a number of words that have different meanings as part of an n-gram compared to alone (for example, the word \"final\" clearly indicates a game in the context of \"final fantasy\", but may have a meaning unrelated to gaming in different contexts). As such I decided to also explore adding 2- and 3-grams as part of the modelling, as up to 3-grams appeared to capture most of the meaningful multiword terms (e.g., \"recovery boot disc\")."
   ]
  },
  {
   "cell_type": "markdown",
   "metadata": {},
   "source": [
    "### Data sampling and cleaning\n",
    "\n",
    "In order to extract the sample, I first checked the number of available observations per category after applying the marketplace and year filters."
   ]
  },
  {
   "cell_type": "code",
   "execution_count": 14,
   "metadata": {},
   "outputs": [
    {
     "data": {
      "text/html": [
       "<div>\n",
       "<style scoped>\n",
       "    .dataframe tbody tr th:only-of-type {\n",
       "        vertical-align: middle;\n",
       "    }\n",
       "\n",
       "    .dataframe tbody tr th {\n",
       "        vertical-align: top;\n",
       "    }\n",
       "\n",
       "    .dataframe thead th {\n",
       "        text-align: right;\n",
       "    }\n",
       "</style>\n",
       "<table border=\"1\" class=\"dataframe\">\n",
       "  <thead>\n",
       "    <tr style=\"text-align: right;\">\n",
       "      <th></th>\n",
       "      <th>product_category</th>\n",
       "      <th>freq</th>\n",
       "    </tr>\n",
       "  </thead>\n",
       "  <tbody>\n",
       "    <tr>\n",
       "      <th>0</th>\n",
       "      <td>Digital_Video_Games</td>\n",
       "      <td>143864</td>\n",
       "    </tr>\n",
       "    <tr>\n",
       "      <th>1</th>\n",
       "      <td>Software</td>\n",
       "      <td>240322</td>\n",
       "    </tr>\n",
       "    <tr>\n",
       "      <th>2</th>\n",
       "      <td>Digital_Software</td>\n",
       "      <td>101762</td>\n",
       "    </tr>\n",
       "  </tbody>\n",
       "</table>\n",
       "</div>"
      ],
      "text/plain": [
       "      product_category    freq\n",
       "0  Digital_Video_Games  143864\n",
       "1             Software  240322\n",
       "2     Digital_Software  101762"
      ]
     },
     "execution_count": 14,
     "metadata": {},
     "output_type": "execute_result"
    }
   ],
   "source": [
    "pd.read_sql(\"\"\"\n",
    "            SELECT product_category, COUNT(*) as freq\n",
    "                FROM amazonreviews.amazon_reviews_parquet\n",
    "                WHERE product_category IN ('Software', 'Digital_Software', 'Digital_Video_Games')\n",
    "                    AND marketplace = 'US'\n",
    "                    AND year >= 2010\n",
    "                GROUP BY product_category\n",
    "            \"\"\"\n",
    "            , conn)"
   ]
  },
  {
   "cell_type": "markdown",
   "metadata": {},
   "source": [
    "As can be seen, the smallest category contains just over 100,000 observations. When training categorisation models, it is important to make sure that the observations in each category you are trying to predict are roughly equal, otherwise the model can bias towards predicting the category with the most observations. As such, I decided to randomly sample 100,000 observations from each of the three categories."
   ]
  },
  {
   "cell_type": "code",
   "execution_count": 15,
   "metadata": {},
   "outputs": [],
   "source": [
    "def read_in_sample_from_athena(feature_field: str, n: int) -> \"pandas.DataFrame\":\n",
    "    \"\"\"\n",
    "    This function reads in a sample of n randomly selected observations from the Amazon Reviews \n",
    "    dataset, from each of the three prediction categories of interest (Software, Digital Software \n",
    "    and Digital Video Games). n should be selected to be smaller than the total number of \n",
    "    observations for the smallest of the 3 categories. \n",
    "    \"\"\"\n",
    "\n",
    "    software = pd.read_sql(\n",
    "        f\"\"\"    \n",
    "        SELECT {feature_field}, product_category\n",
    "            FROM amazonreviews.amazon_reviews_parquet\n",
    "            WHERE product_category = 'Software'\n",
    "            AND marketplace = 'US'\n",
    "            AND year >= 2010\n",
    "            ORDER BY random()\n",
    "            LIMIT {n}\n",
    "        \"\"\",\n",
    "        conn,\n",
    "    )\n",
    "\n",
    "    dig_software = pd.read_sql(\n",
    "        f\"\"\"\n",
    "        SELECT {feature_field}, product_category\n",
    "            FROM amazonreviews.amazon_reviews_parquet\n",
    "            WHERE product_category = 'Digital_Software'\n",
    "            AND marketplace = 'US'\n",
    "            AND year >= 2010\n",
    "            ORDER BY random()\n",
    "            LIMIT {n}\n",
    "        \"\"\",\n",
    "        conn,\n",
    "    )\n",
    "\n",
    "    dig_games = pd.read_sql(\n",
    "        f\"\"\"\n",
    "        SELECT {feature_field}, product_category\n",
    "            FROM amazonreviews.amazon_reviews_parquet\n",
    "            WHERE product_category = 'Digital_Video_Games'\n",
    "            AND marketplace = 'US'\n",
    "            AND year >= 2010\n",
    "            ORDER BY random()\n",
    "            LIMIT {n}\n",
    "        \"\"\",\n",
    "        conn,\n",
    "    )\n",
    "\n",
    "    csample = software.append(dig_software)\n",
    "    csample = csample.append(dig_games)\n",
    "    csample = csample.reset_index(drop=True)\n",
    "\n",
    "    return csample"
   ]
  },
  {
   "cell_type": "markdown",
   "metadata": {},
   "source": [
    "#### Cleaning the data\n",
    "\n",
    "The next step was cleaning the text data in both the `review_body` and `product_title` fields. This involved:\n",
    "* Dropping any rows containing NA;\n",
    "* Converting all text to lowercase, so that the same word with different casing will not be treated as a separate feature by the model;\n",
    "* Removing common EN stopwords, as they generally only add noise in Bag-of-Words models;\n",
    "* Get rid of non-word tokens, as numbers are unlikely to be useful features in this context and punctuation needs to be stripped;\n",
    "* Doing a final clean up, including getting rid of extra whitespace (otherwise it will be tokenised and treated as a model feature), deleting empty rows, and converting the fields to string."
   ]
  },
  {
   "cell_type": "code",
   "execution_count": 16,
   "metadata": {},
   "outputs": [],
   "source": [
    "def clean_text_data(\n",
    "    csample: \"pandas.DataFrame\", feature_field: str, stopwords: list\n",
    ") -> \"pandas.DataFrame\":\n",
    "    \"\"\"\n",
    "    This function cleans the text data in preparation for modeling. The output is a cleansed string that is ready\n",
    "    for tokenisation and vectorisation.\n",
    "    \"\"\"\n",
    "\n",
    "    # Drop NAs\n",
    "    csample[feature_field].dropna(inplace=True)\n",
    "\n",
    "    # All words to lower\n",
    "    csample[feature_field] = csample[feature_field].str.lower()\n",
    "\n",
    "    # Remove stopwords\n",
    "    pat = r\"\\b(?:{})\\b\".format(\"|\".join(stop))\n",
    "    csample[feature_field] = csample[feature_field].str.replace(pat, \"\")\n",
    "\n",
    "    # Remove everything that is not a word\n",
    "    csample[feature_field] = csample[feature_field].str.replace(\"[^a-z\\s]\", \" \")\n",
    "\n",
    "    # Replace all extra whitespace\n",
    "    csample[feature_field] = csample[feature_field].str.replace(r\"\\s+\", \" \")\n",
    "    csample[feature_field] = csample[feature_field].str.strip()\n",
    "\n",
    "    # Convert all columns to string\n",
    "    csample[feature_field] = csample[feature_field].apply(lambda x: np.str_(x))\n",
    "\n",
    "    # Remove any entries that are empty after cleaning\n",
    "    csample = csample[csample[feature_field] != \"\"]\n",
    "\n",
    "    return csample"
   ]
  },
  {
   "cell_type": "markdown",
   "metadata": {},
   "source": [
    "#### Create training, test and validation sets\n",
    "\n",
    "In order to correctly train and test the models, I split the data into three datasets:\n",
    "* **Train**: this dataset is used to train the models, and consists of 60% of the data;\n",
    "* **Test**: this dataset is used to see how accurately the model predicts the categories on new data;\n",
    "* **Validation**: this is a second test dataset, which is used when you are using the test dataset to assess the accuracy of multiple competing models. Having a validation dataset is best practice, as repeated model tuning and testing on the test dataset can lead to overfitting to this dataset. The validation dataset allows you to independently check the accuracy on a third, unseen dataset.\n",
    "\n",
    "I used `sklearn`'s `model_selection` method to split the datasets, as this ensures an even distribution of the target categories in each dataset."
   ]
  },
  {
   "cell_type": "code",
   "execution_count": 24,
   "metadata": {},
   "outputs": [],
   "source": [
    "def split_into_test_train_validate(\n",
    "    csample: \"pandas.DataFrame\", feature_field: str\n",
    ") -> \"pandas.DataFrame\":\n",
    "    \"\"\"\n",
    "    This function splits the data into test, train and validate sets using sklearn's model_selection function.\n",
    "    \"\"\"\n",
    "\n",
    "    train_x, test_x, train_y, test_y = model_selection.train_test_split(\n",
    "        csample[feature_field], csample[\"product_category\"], test_size=0.2\n",
    "    )\n",
    "\n",
    "    train_x, val_x, train_y, val_y = model_selection.train_test_split(\n",
    "        train_x, train_y, test_size=0.25\n",
    "    )\n",
    "\n",
    "    train = pd.concat([train_x, train_y], axis=1)\n",
    "    test = pd.concat([test_x, test_y], axis=1)\n",
    "    val = pd.concat([val_x, val_y], axis=1)\n",
    "\n",
    "    return train, test, val"
   ]
  },
  {
   "cell_type": "markdown",
   "metadata": {},
   "source": [
    "Finally, I ran the three above steps for the `review_body` and `product_title` fields, and saved their test, train and validation datasets to file in preparation for the model training."
   ]
  },
  {
   "cell_type": "code",
   "execution_count": 18,
   "metadata": {},
   "outputs": [
    {
     "name": "stdout",
     "output_type": "stream",
     "text": [
      "CPU times: user 44.5 s, sys: 326 ms, total: 44.9 s\n",
      "Wall time: 2min 25s\n"
     ]
    }
   ],
   "source": [
    "%%time\n",
    "\n",
    "# Prepare samples using the reviews as the features\n",
    "reviews = read_in_sample_from_athena(\"review_body\", 100000)\n",
    "reviews = clean_text_data(reviews, \"review_body\", stop)\n",
    "train_reviews, test_reviews, val_reviews = split_into_test_train_validate(reviews, \"review_body\")"
   ]
  },
  {
   "cell_type": "code",
   "execution_count": 19,
   "metadata": {},
   "outputs": [
    {
     "name": "stdout",
     "output_type": "stream",
     "text": [
      "CPU times: user 12.9 s, sys: 79.6 ms, total: 12.9 s\n",
      "Wall time: 1min 25s\n"
     ]
    }
   ],
   "source": [
    "%%time\n",
    "\n",
    "# Prepare samples using the product titles as the features\n",
    "titles = read_in_sample_from_athena(\"product_title\", 100000)\n",
    "titles = clean_text_data(titles, \"product_title\", stop)\n",
    "train_titles, test_titles, val_titles = split_into_test_train_validate(titles, \"product_title\")"
   ]
  },
  {
   "cell_type": "code",
   "execution_count": 21,
   "metadata": {},
   "outputs": [],
   "source": [
    "# Save all of the datasets to CSV\n",
    "\n",
    "!mkdir data\n",
    "# Reviews samples\n",
    "train_reviews.to_csv(\"data/train_reviews.csv\", header = True, index = False)\n",
    "test_reviews.to_csv(\"data/test_reviews.csv\", header = True, index = False)\n",
    "val_reviews.to_csv(\"data/val_reviews.csv\", header = True, index = False)\n",
    "reviews.to_csv(\"data/full_reviews.csv\", header = True, index = False)\n",
    "\n",
    "# Products samples\n",
    "train_titles.to_csv(\"data/train_titles.csv\", header = True, index = False)\n",
    "test_titles.to_csv(\"data/test_titles.csv\", header = True, index = False)\n",
    "val_titles.to_csv(\"data/val_titles.csv\", header = True, index = False)\n",
    "titles.to_csv(\"data/full_titles.csv\", header = True, index = False)"
   ]
  }
 ],
 "metadata": {
  "kernelspec": {
   "display_name": "Python 3",
   "language": "python",
   "name": "python3"
  },
  "language_info": {
   "codemirror_mode": {
    "name": "ipython",
    "version": 3
   },
   "file_extension": ".py",
   "mimetype": "text/x-python",
   "name": "python",
   "nbconvert_exporter": "python",
   "pygments_lexer": "ipython3",
   "version": "3.7.6"
  }
 },
 "nbformat": 4,
 "nbformat_minor": 2
}
